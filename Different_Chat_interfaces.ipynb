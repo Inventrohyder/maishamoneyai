{
  "nbformat": 4,
  "nbformat_minor": 0,
  "metadata": {
    "colab": {
      "provenance": [],
      "include_colab_link": true
    },
    "kernelspec": {
      "name": "python3",
      "display_name": "Python 3"
    },
    "language_info": {
      "name": "python"
    }
  },
  "cells": [
    {
      "cell_type": "markdown",
      "metadata": {
        "id": "view-in-github",
        "colab_type": "text"
      },
      "source": [
        "<a href=\"https://colab.research.google.com/github/Inventrohyder/maishamoneyai/blob/main/Different_Chat_interfaces.ipynb\" target=\"_parent\"><img src=\"https://colab.research.google.com/assets/colab-badge.svg\" alt=\"Open In Colab\"/></a>"
      ]
    },
    {
      "cell_type": "code",
      "execution_count": null,
      "metadata": {
        "colab": {
          "base_uri": "https://localhost:8080/"
        },
        "id": "XMdfNgeMWFbH",
        "outputId": "0b58595f-7a28-486a-809e-50515ad7a639"
      },
      "outputs": [
        {
          "output_type": "stream",
          "name": "stdout",
          "text": [
            "Collecting tiktoken\n",
            "  Downloading tiktoken-0.5.1-cp310-cp310-manylinux_2_17_x86_64.manylinux2014_x86_64.whl (2.0 MB)\n",
            "\u001b[2K     \u001b[90m━━━━━━━━━━━━━━━━━━━━━━━━━━━━━━━━━━━━━━━━\u001b[0m \u001b[32m2.0/2.0 MB\u001b[0m \u001b[31m14.3 MB/s\u001b[0m eta \u001b[36m0:00:00\u001b[0m\n",
            "\u001b[?25hRequirement already satisfied: regex>=2022.1.18 in /usr/local/lib/python3.10/dist-packages (from tiktoken) (2023.6.3)\n",
            "Requirement already satisfied: requests>=2.26.0 in /usr/local/lib/python3.10/dist-packages (from tiktoken) (2.31.0)\n",
            "Requirement already satisfied: charset-normalizer<4,>=2 in /usr/local/lib/python3.10/dist-packages (from requests>=2.26.0->tiktoken) (3.2.0)\n",
            "Requirement already satisfied: idna<4,>=2.5 in /usr/local/lib/python3.10/dist-packages (from requests>=2.26.0->tiktoken) (3.4)\n",
            "Requirement already satisfied: urllib3<3,>=1.21.1 in /usr/local/lib/python3.10/dist-packages (from requests>=2.26.0->tiktoken) (2.0.4)\n",
            "Requirement already satisfied: certifi>=2017.4.17 in /usr/local/lib/python3.10/dist-packages (from requests>=2.26.0->tiktoken) (2023.7.22)\n",
            "Installing collected packages: tiktoken\n",
            "Successfully installed tiktoken-0.5.1\n",
            "Collecting openai\n",
            "  Downloading openai-0.28.0-py3-none-any.whl (76 kB)\n",
            "\u001b[2K     \u001b[90m━━━━━━━━━━━━━━━━━━━━━━━━━━━━━━━━━━━━━━━━\u001b[0m \u001b[32m76.5/76.5 kB\u001b[0m \u001b[31m1.9 MB/s\u001b[0m eta \u001b[36m0:00:00\u001b[0m\n",
            "\u001b[?25hRequirement already satisfied: requests>=2.20 in /usr/local/lib/python3.10/dist-packages (from openai) (2.31.0)\n",
            "Requirement already satisfied: tqdm in /usr/local/lib/python3.10/dist-packages (from openai) (4.66.1)\n",
            "Requirement already satisfied: aiohttp in /usr/local/lib/python3.10/dist-packages (from openai) (3.8.5)\n",
            "Requirement already satisfied: charset-normalizer<4,>=2 in /usr/local/lib/python3.10/dist-packages (from requests>=2.20->openai) (3.2.0)\n",
            "Requirement already satisfied: idna<4,>=2.5 in /usr/local/lib/python3.10/dist-packages (from requests>=2.20->openai) (3.4)\n",
            "Requirement already satisfied: urllib3<3,>=1.21.1 in /usr/local/lib/python3.10/dist-packages (from requests>=2.20->openai) (2.0.4)\n",
            "Requirement already satisfied: certifi>=2017.4.17 in /usr/local/lib/python3.10/dist-packages (from requests>=2.20->openai) (2023.7.22)\n",
            "Requirement already satisfied: attrs>=17.3.0 in /usr/local/lib/python3.10/dist-packages (from aiohttp->openai) (23.1.0)\n",
            "Requirement already satisfied: multidict<7.0,>=4.5 in /usr/local/lib/python3.10/dist-packages (from aiohttp->openai) (6.0.4)\n",
            "Requirement already satisfied: async-timeout<5.0,>=4.0.0a3 in /usr/local/lib/python3.10/dist-packages (from aiohttp->openai) (4.0.3)\n",
            "Requirement already satisfied: yarl<2.0,>=1.0 in /usr/local/lib/python3.10/dist-packages (from aiohttp->openai) (1.9.2)\n",
            "Requirement already satisfied: frozenlist>=1.1.1 in /usr/local/lib/python3.10/dist-packages (from aiohttp->openai) (1.4.0)\n",
            "Requirement already satisfied: aiosignal>=1.1.2 in /usr/local/lib/python3.10/dist-packages (from aiohttp->openai) (1.3.1)\n",
            "Installing collected packages: openai\n",
            "Successfully installed openai-0.28.0\n"
          ]
        }
      ],
      "source": [
        "!pip install tiktoken\n",
        "!pip install openai"
      ]
    },
    {
      "cell_type": "code",
      "source": [
        "import json\n",
        "import openai\n",
        "import requests\n",
        "from tenacity import retry, wait_random_exponential, stop_after_attempt\n",
        "from termcolor import colored\n",
        "from datetime import timedelta\n",
        "import pandas as pd\n",
        "\n",
        "GPT_MODEL = \"gpt-4-0613\","
      ],
      "metadata": {
        "id": "MhnIABTwWfRV"
      },
      "execution_count": null,
      "outputs": []
    },
    {
      "cell_type": "code",
      "source": [
        "import os\n",
        "openai.api_key = os.environ[\"OPENAI_API_KEY\"]"
      ],
      "metadata": {
        "id": "F76ojxJoZ49o"
      },
      "execution_count": null,
      "outputs": []
    },
    {
      "cell_type": "code",
      "source": [
        "@retry(wait=wait_random_exponential(multiplier=1, max=40), stop=stop_after_attempt(3))\n",
        "def chat_completion_request(\n",
        "    messages,\n",
        "    functions=None,\n",
        "    function_call=None,\n",
        "    model=GPT_MODEL,\n",
        "    temperature: int = None,\n",
        "  ):\n",
        "    headers = {\n",
        "        \"Content-Type\": \"application/json\",\n",
        "        \"Authorization\": \"Bearer \" + openai.api_key,\n",
        "    }\n",
        "    json_data = {\"model\": model, \"messages\": messages}\n",
        "    if functions is not None:\n",
        "        json_data.update({\"functions\": functions})\n",
        "    if function_call is not None:\n",
        "        json_data.update({\"function_call\": function_call})\n",
        "    if temperature is not None:\n",
        "        json_data.update({\"temperature\": temperature })\n",
        "    try:\n",
        "        response = requests.post(\n",
        "            \"https://api.openai.com/v1/chat/completions\",\n",
        "            headers=headers,\n",
        "            json=json_data,\n",
        "        )\n",
        "        return response\n",
        "    except Exception as e:\n",
        "        print(\"Unable to generate ChatCompletion response\")\n",
        "        print(f\"Exception: {e}\")\n",
        "        return e"
      ],
      "metadata": {
        "id": "ui4yM3d6WgYm"
      },
      "execution_count": null,
      "outputs": []
    },
    {
      "cell_type": "code",
      "source": [
        "from IPython.display import display, HTML\n",
        "import json\n",
        "import pprint\n",
        "\n",
        "def pretty_print_message(message):\n",
        "    role_to_color = {\n",
        "        \"system\": \"red\",\n",
        "        \"user\": \"green\",\n",
        "        \"assistant\": \"dodgerblue\",\n",
        "        \"function\": \"magenta\",\n",
        "    }\n",
        "\n",
        "    msg = message[\"content\"] if not message.get(\"function_call\") else message[\"function_call\"]\n",
        "\n",
        "    # Handling different msg types\n",
        "    if isinstance(msg, dict):\n",
        "        msg = json.dumps(msg, indent=2)\n",
        "    elif not isinstance(msg, str):\n",
        "        msg = pprint.pformat(msg)\n",
        "\n",
        "    msg = msg.replace(\"\\n\", \"<br>\")  # Replaces all \"\\n\" with \"<br>\" for HTML\n",
        "    role = message[\"role\"]\n",
        "    name = f' ({message[\"name\"]})' if role == \"function\" else ''\n",
        "\n",
        "    display(HTML(f'<font color=\"{role_to_color[role]}\">{role}{name}: {msg}</font><br>'))\n",
        "\n",
        "def pretty_print_conversation(messages):\n",
        "    for message in messages:\n",
        "        pretty_print_message(message)\n"
      ],
      "metadata": {
        "id": "Nefp0vxQWhnh"
      },
      "execution_count": null,
      "outputs": []
    },
    {
      "cell_type": "code",
      "source": [
        "data_json_schema = {\n",
        "    \"title\": \"Transaction\",\n",
        "    \"description\": \"Details about the transaction\",\n",
        "    \"type\": \"object\",\n",
        "    \"properties\": {\n",
        "        \"transaction_type\": {\n",
        "            \"title\": \"Transaction Type\",\n",
        "            \"description\": \"The type of the transaction\",\n",
        "            \"type\": \"string\"\n",
        "        },\n",
        "        \"value\": {\n",
        "            \"title\": \"Transaction Value\",\n",
        "            \"description\": \"The amount specified in the transaction\",\n",
        "            \"type\": \"number\"\n",
        "        },\n",
        "        \"currency\": {\n",
        "            \"title\": \"Currency\",\n",
        "            \"description\": \"Currency code\",\n",
        "            \"type\": \"string\"\n",
        "        },\n",
        "        \"interval\": {\n",
        "            \"title\": \"Interval\",\n",
        "            \"description\": \"Time period interval for the transaction\",\n",
        "            \"type\": \"string\"\n",
        "        },\n",
        "        \"transaction_category\": {\n",
        "            \"title\": \"Transaction Category\",\n",
        "            \"description\": \"Transaction category\",\n",
        "            \"type\": \"string\"\n",
        "        },\n",
        "        \"transaction_item\": {\n",
        "            \"title\": \"Transaction Item\",\n",
        "            \"description\": \"The transaction item\",\n",
        "            \"type\": \"string\"\n",
        "        }\n",
        "    },\n",
        "    \"required\": [\"value\", \"currency\", \"transaction_item\"]\n",
        "}\n",
        "\n",
        "\n",
        "functions = [\n",
        "    {\n",
        "        \"name\": \"get_transaction_details\",\n",
        "        \"description\": \"Get's the transaction details for the user\",\n",
        "        \"parameters\": data_json_schema,\n",
        "    }\n",
        "]"
      ],
      "metadata": {
        "id": "tRqnWaCEWxxE"
      },
      "execution_count": null,
      "outputs": []
    },
    {
      "cell_type": "code",
      "source": [
        "messages = [\n",
        "    {\"role\": \"system\", \"content\": \"Provide magical, actionable for financial health\"},\n",
        "    {\"role\": \"user\", \"content\": \"I will spend $50 every month on groceries\"},\n",
        "]"
      ],
      "metadata": {
        "id": "k0kSeTXnXW0x"
      },
      "execution_count": null,
      "outputs": []
    },
    {
      "cell_type": "code",
      "source": [
        "chat_response = chat_completion_request(\n",
        "    messages, functions=functions,\n",
        ")\n",
        "assistant_message = chat_response.json()[\"choices\"][0][\"message\"]\n",
        "\n",
        "assistant_message"
      ],
      "metadata": {
        "colab": {
          "base_uri": "https://localhost:8080/"
        },
        "id": "h1rbtGa8ZtRy",
        "outputId": "668d0542-92d4-46e7-bfaf-10909931905b"
      },
      "execution_count": null,
      "outputs": [
        {
          "output_type": "execute_result",
          "data": {
            "text/plain": [
              "{'role': 'assistant',\n",
              " 'content': None,\n",
              " 'function_call': {'name': 'get_transaction_details',\n",
              "  'arguments': '{\\n  \"value\": 50,\\n  \"currency\": \"USD\",\\n  \"interval\": \"monthly\",\\n  \"transaction_category\": \"groceries\",\\n  \"transaction_item\": \"groceries\"\\n}'}}"
            ]
          },
          "metadata": {},
          "execution_count": 9
        }
      ]
    },
    {
      "cell_type": "code",
      "source": [
        "import json\n",
        "json.loads(assistant_message[\"function_call\"][\"arguments\"])"
      ],
      "metadata": {
        "colab": {
          "base_uri": "https://localhost:8080/"
        },
        "id": "32BPn4aqaRu5",
        "outputId": "82384ab0-898a-4d31-f005-ed967910b133"
      },
      "execution_count": null,
      "outputs": [
        {
          "output_type": "execute_result",
          "data": {
            "text/plain": [
              "{'value': 50,\n",
              " 'currency': 'USD',\n",
              " 'interval': 'monthly',\n",
              " 'transaction_category': 'groceries',\n",
              " 'transaction_item': 'groceries'}"
            ]
          },
          "metadata": {},
          "execution_count": 12
        }
      ]
    },
    {
      "cell_type": "code",
      "source": [
        "messages = [\n",
        "    {\"role\": \"system\", \"content\": \"Provide magical, actionable for financial health\"},\n",
        "    {\"role\": \"user\", \"content\": \"Ninataka kutumia 50 bob\"},\n",
        "]"
      ],
      "metadata": {
        "id": "unLS81XraqTg"
      },
      "execution_count": null,
      "outputs": []
    },
    {
      "cell_type": "code",
      "source": [
        "chat_response = chat_completion_request(\n",
        "    messages, functions=functions,\n",
        ")\n",
        "assistant_message = chat_response.json()[\"choices\"][0][\"message\"]\n",
        "\n",
        "assistant_message"
      ],
      "metadata": {
        "colab": {
          "base_uri": "https://localhost:8080/"
        },
        "id": "pgVvY404a0GL",
        "outputId": "ea55271a-50c4-4851-e481-0893a3c0b713"
      },
      "execution_count": null,
      "outputs": [
        {
          "output_type": "execute_result",
          "data": {
            "text/plain": [
              "{'role': 'assistant',\n",
              " 'content': None,\n",
              " 'function_call': {'name': 'get_transaction_details',\n",
              "  'arguments': '{\\n  \"value\": 50,\\n  \"currency\": \"KES\"\\n}'}}"
            ]
          },
          "metadata": {},
          "execution_count": 17
        }
      ]
    },
    {
      "cell_type": "code",
      "source": [
        "import json\n",
        "json.loads(assistant_message[\"function_call\"][\"arguments\"])"
      ],
      "metadata": {
        "colab": {
          "base_uri": "https://localhost:8080/"
        },
        "id": "eCeJD6J4a1OS",
        "outputId": "3be44a61-8147-4d98-9d25-c610f784ae60"
      },
      "execution_count": null,
      "outputs": [
        {
          "output_type": "execute_result",
          "data": {
            "text/plain": [
              "{'value': 50, 'currency': 'KES'}"
            ]
          },
          "metadata": {},
          "execution_count": 18
        }
      ]
    },
    {
      "cell_type": "code",
      "source": [],
      "metadata": {
        "id": "2rcKC61TbCbR"
      },
      "execution_count": null,
      "outputs": []
    },
    {
      "cell_type": "code",
      "source": [
        "# Import PyDrive and associated libraries.\n",
        "# This only needs to be done once per notebook.\n",
        "from pydrive.auth import GoogleAuth\n",
        "from pydrive.drive import GoogleDrive\n",
        "from google.colab import auth\n",
        "from oauth2client.client import GoogleCredentials\n",
        "\n",
        "# Authenticate and create the PyDrive client.\n",
        "# This only needs to be done once per notebook.\n",
        "auth.authenticate_user()\n",
        "gauth = GoogleAuth()\n",
        "gauth.credentials = GoogleCredentials.get_application_default()\n",
        "drive = GoogleDrive(gauth)"
      ],
      "metadata": {
        "id": "prALjuTskXDU"
      },
      "execution_count": null,
      "outputs": []
    },
    {
      "cell_type": "code",
      "source": [
        "# Download a file based on its file ID.\n",
        "#\n",
        "# A file ID looks like: laggVyWshwcyP6kEI-y_W3P8D26sz\n",
        "file_id = '1TrQI4UvdF-TSv0sFsiU-RV2Vjje0-wi0'\n",
        "downloaded = drive.CreateFile({'id': file_id})\n",
        "\n",
        "# Save the audio file to a local file (e.g., 'downloaded_audio.mp3')\n",
        "downloaded.GetContentFile('downloaded_audio.m4a')\n",
        "\n",
        "print('Audio file has been downloaded and saved as \"downloaded_audio.mp3\".')"
      ],
      "metadata": {
        "colab": {
          "base_uri": "https://localhost:8080/"
        },
        "id": "yNlAgp4Vkk35",
        "outputId": "cfa737f9-9976-442f-9ec7-925ef7191b1a"
      },
      "execution_count": null,
      "outputs": [
        {
          "output_type": "stream",
          "name": "stdout",
          "text": [
            "Audio file has been downloaded and saved as \"downloaded_audio.mp3\".\n"
          ]
        }
      ]
    },
    {
      "cell_type": "code",
      "source": [
        "# Install ffmpeg\n",
        "!apt-get install ffmpeg\n",
        "\n",
        "# Convert the m4a file to mp3\n",
        "!ffmpeg -i downloaded_audio.m4a downloaded_audio.mp3\n",
        "\n",
        "from IPython.display import Audio\n",
        "\n",
        "# Play the converted mp3 audio file\n",
        "Audio('downloaded_audio.mp3')"
      ],
      "metadata": {
        "colab": {
          "base_uri": "https://localhost:8080/",
          "height": 985
        },
        "id": "KDTvKldRlV83",
        "outputId": "d2e73d05-7554-49e8-e648-472fd5a70f08"
      },
      "execution_count": null,
      "outputs": [
        {
          "output_type": "stream",
          "name": "stdout",
          "text": [
            "Reading package lists... Done\n",
            "Building dependency tree... Done\n",
            "Reading state information... Done\n",
            "ffmpeg is already the newest version (7:4.4.2-0ubuntu0.22.04.1).\n",
            "0 upgraded, 0 newly installed, 0 to remove and 18 not upgraded.\n",
            "ffmpeg version 4.4.2-0ubuntu0.22.04.1 Copyright (c) 2000-2021 the FFmpeg developers\n",
            "  built with gcc 11 (Ubuntu 11.2.0-19ubuntu1)\n",
            "  configuration: --prefix=/usr --extra-version=0ubuntu0.22.04.1 --toolchain=hardened --libdir=/usr/lib/x86_64-linux-gnu --incdir=/usr/include/x86_64-linux-gnu --arch=amd64 --enable-gpl --disable-stripping --enable-gnutls --enable-ladspa --enable-libaom --enable-libass --enable-libbluray --enable-libbs2b --enable-libcaca --enable-libcdio --enable-libcodec2 --enable-libdav1d --enable-libflite --enable-libfontconfig --enable-libfreetype --enable-libfribidi --enable-libgme --enable-libgsm --enable-libjack --enable-libmp3lame --enable-libmysofa --enable-libopenjpeg --enable-libopenmpt --enable-libopus --enable-libpulse --enable-librabbitmq --enable-librubberband --enable-libshine --enable-libsnappy --enable-libsoxr --enable-libspeex --enable-libsrt --enable-libssh --enable-libtheora --enable-libtwolame --enable-libvidstab --enable-libvorbis --enable-libvpx --enable-libwebp --enable-libx265 --enable-libxml2 --enable-libxvid --enable-libzimg --enable-libzmq --enable-libzvbi --enable-lv2 --enable-omx --enable-openal --enable-opencl --enable-opengl --enable-sdl2 --enable-pocketsphinx --enable-librsvg --enable-libmfx --enable-libdc1394 --enable-libdrm --enable-libiec61883 --enable-chromaprint --enable-frei0r --enable-libx264 --enable-shared\n",
            "  libavutil      56. 70.100 / 56. 70.100\n",
            "  libavcodec     58.134.100 / 58.134.100\n",
            "  libavformat    58. 76.100 / 58. 76.100\n",
            "  libavdevice    58. 13.100 / 58. 13.100\n",
            "  libavfilter     7.110.100 /  7.110.100\n",
            "  libswscale      5.  9.100 /  5.  9.100\n",
            "  libswresample   3.  9.100 /  3.  9.100\n",
            "  libpostproc    55.  9.100 / 55.  9.100\n",
            "Input #0, mov,mp4,m4a,3gp,3g2,mj2, from 'downloaded_audio.m4a':\n",
            "  Metadata:\n",
            "    major_brand     : M4A \n",
            "    minor_version   : 0\n",
            "    compatible_brands: M4A isommp42\n",
            "    creation_time   : 2023-09-23T10:22:18.000000Z\n",
            "    title           : Bweha Lane\n",
            "    voice-memo-uuid : 5E1DB661-489C-4B13-B5B5-2129103115E8\n",
            "    encoder         : com.apple.VoiceMemos (iPad Version 13.6 (Build 22G120))\n",
            "  Duration: 00:00:08.17, start: 0.000000, bitrate: 314 kb/s\n",
            "  Stream #0:0(und): Audio: alac (alac / 0x63616C61), 48000 Hz, mono, s16p, 310 kb/s (default)\n",
            "    Metadata:\n",
            "      creation_time   : 2023-09-23T10:22:18.000000Z\n",
            "      handler_name    : Core Media Audio\n",
            "      vendor_id       : [0][0][0][0]\n",
            "Stream mapping:\n",
            "  Stream #0:0 -> #0:0 (alac (native) -> mp3 (libmp3lame))\n",
            "Press [q] to stop, [?] for help\n",
            "Output #0, mp3, to 'downloaded_audio.mp3':\n",
            "  Metadata:\n",
            "    major_brand     : M4A \n",
            "    minor_version   : 0\n",
            "    compatible_brands: M4A isommp42\n",
            "    voice-memo-uuid : 5E1DB661-489C-4B13-B5B5-2129103115E8\n",
            "    TIT2            : Bweha Lane\n",
            "    TSSE            : Lavf58.76.100\n",
            "  Stream #0:0(und): Audio: mp3, 48000 Hz, mono, s16p (default)\n",
            "    Metadata:\n",
            "      creation_time   : 2023-09-23T10:22:18.000000Z\n",
            "      handler_name    : Core Media Audio\n",
            "      vendor_id       : [0][0][0][0]\n",
            "      encoder         : Lavc58.134.100 libmp3lame\n",
            "size=      65kB time=00:00:08.16 bitrate=  64.8kbits/s speed=50.6x    \n",
            "video:0kB audio:64kB subtitle:0kB other streams:0kB global headers:0kB muxing overhead: 0.639620%\n"
          ]
        },
        {
          "output_type": "execute_result",
          "data": {
            "text/plain": [
              "<IPython.lib.display.Audio object>"
            ],
            "text/html": [
              "\n",
              "                <audio  controls=\"controls\" >\n",
              "                    <source src=\"data:audio/mpeg;base64,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\" type=\"audio/mpeg\" />\n",
              "                    Your browser does not support the audio element.\n",
              "                </audio>\n",
              "              "
            ]
          },
          "metadata": {},
          "execution_count": 26
        }
      ]
    },
    {
      "cell_type": "code",
      "source": [
        "pip install -U openai-whisper"
      ],
      "metadata": {
        "colab": {
          "base_uri": "https://localhost:8080/"
        },
        "id": "YXGRAALJl1HH",
        "outputId": "87e24721-e2f7-4b8c-e27f-4e10e63125fb"
      },
      "execution_count": null,
      "outputs": [
        {
          "output_type": "stream",
          "name": "stdout",
          "text": [
            "Collecting openai-whisper\n",
            "  Downloading openai-whisper-20230918.tar.gz (794 kB)\n",
            "\u001b[?25l     \u001b[90m━━━━━━━━━━━━━━━━━━━━━━━━━━━━━━━━━━━━━━━━\u001b[0m \u001b[32m0.0/794.3 kB\u001b[0m \u001b[31m?\u001b[0m eta \u001b[36m-:--:--\u001b[0m\r\u001b[2K     \u001b[91m━━━━━━━\u001b[0m\u001b[90m╺\u001b[0m\u001b[90m━━━━━━━━━━━━━━━━━━━━━━━━━━━━━━━\u001b[0m \u001b[32m143.4/794.3 kB\u001b[0m \u001b[31m4.2 MB/s\u001b[0m eta \u001b[36m0:00:01\u001b[0m\r\u001b[2K     \u001b[91m━━━━━━━━━━━━━━━━━━━━━━━\u001b[0m\u001b[90m╺\u001b[0m\u001b[90m━━━━━━━━━━━━━━━\u001b[0m \u001b[32m471.0/794.3 kB\u001b[0m \u001b[31m7.7 MB/s\u001b[0m eta \u001b[36m0:00:01\u001b[0m\r\u001b[2K     \u001b[90m━━━━━━━━━━━━━━━━━━━━━━━━━━━━━━━━━━━━━━━\u001b[0m \u001b[32m794.3/794.3 kB\u001b[0m \u001b[31m7.7 MB/s\u001b[0m eta \u001b[36m0:00:00\u001b[0m\n",
            "\u001b[?25h  Installing build dependencies ... \u001b[?25l\u001b[?25hdone\n",
            "  Getting requirements to build wheel ... \u001b[?25l\u001b[?25hdone\n",
            "  Preparing metadata (pyproject.toml) ... \u001b[?25l\u001b[?25hdone\n",
            "Requirement already satisfied: triton==2.0.0 in /usr/local/lib/python3.10/dist-packages (from openai-whisper) (2.0.0)\n",
            "Requirement already satisfied: numba in /usr/local/lib/python3.10/dist-packages (from openai-whisper) (0.56.4)\n",
            "Requirement already satisfied: numpy in /usr/local/lib/python3.10/dist-packages (from openai-whisper) (1.23.5)\n",
            "Requirement already satisfied: torch in /usr/local/lib/python3.10/dist-packages (from openai-whisper) (2.0.1+cu118)\n",
            "Requirement already satisfied: tqdm in /usr/local/lib/python3.10/dist-packages (from openai-whisper) (4.66.1)\n",
            "Requirement already satisfied: more-itertools in /usr/local/lib/python3.10/dist-packages (from openai-whisper) (10.1.0)\n",
            "Collecting tiktoken==0.3.3 (from openai-whisper)\n",
            "  Downloading tiktoken-0.3.3-cp310-cp310-manylinux_2_17_x86_64.manylinux2014_x86_64.whl (1.7 MB)\n",
            "\u001b[2K     \u001b[90m━━━━━━━━━━━━━━━━━━━━━━━━━━━━━━━━━━━━━━━━\u001b[0m \u001b[32m1.7/1.7 MB\u001b[0m \u001b[31m18.9 MB/s\u001b[0m eta \u001b[36m0:00:00\u001b[0m\n",
            "\u001b[?25hRequirement already satisfied: regex>=2022.1.18 in /usr/local/lib/python3.10/dist-packages (from tiktoken==0.3.3->openai-whisper) (2023.6.3)\n",
            "Requirement already satisfied: requests>=2.26.0 in /usr/local/lib/python3.10/dist-packages (from tiktoken==0.3.3->openai-whisper) (2.31.0)\n",
            "Requirement already satisfied: cmake in /usr/local/lib/python3.10/dist-packages (from triton==2.0.0->openai-whisper) (3.27.4.1)\n",
            "Requirement already satisfied: filelock in /usr/local/lib/python3.10/dist-packages (from triton==2.0.0->openai-whisper) (3.12.2)\n",
            "Requirement already satisfied: lit in /usr/local/lib/python3.10/dist-packages (from triton==2.0.0->openai-whisper) (16.0.6)\n",
            "Requirement already satisfied: llvmlite<0.40,>=0.39.0dev0 in /usr/local/lib/python3.10/dist-packages (from numba->openai-whisper) (0.39.1)\n",
            "Requirement already satisfied: setuptools in /usr/local/lib/python3.10/dist-packages (from numba->openai-whisper) (67.7.2)\n",
            "Requirement already satisfied: typing-extensions in /usr/local/lib/python3.10/dist-packages (from torch->openai-whisper) (4.5.0)\n",
            "Requirement already satisfied: sympy in /usr/local/lib/python3.10/dist-packages (from torch->openai-whisper) (1.12)\n",
            "Requirement already satisfied: networkx in /usr/local/lib/python3.10/dist-packages (from torch->openai-whisper) (3.1)\n",
            "Requirement already satisfied: jinja2 in /usr/local/lib/python3.10/dist-packages (from torch->openai-whisper) (3.1.2)\n",
            "Requirement already satisfied: charset-normalizer<4,>=2 in /usr/local/lib/python3.10/dist-packages (from requests>=2.26.0->tiktoken==0.3.3->openai-whisper) (3.2.0)\n",
            "Requirement already satisfied: idna<4,>=2.5 in /usr/local/lib/python3.10/dist-packages (from requests>=2.26.0->tiktoken==0.3.3->openai-whisper) (3.4)\n",
            "Requirement already satisfied: urllib3<3,>=1.21.1 in /usr/local/lib/python3.10/dist-packages (from requests>=2.26.0->tiktoken==0.3.3->openai-whisper) (2.0.4)\n",
            "Requirement already satisfied: certifi>=2017.4.17 in /usr/local/lib/python3.10/dist-packages (from requests>=2.26.0->tiktoken==0.3.3->openai-whisper) (2023.7.22)\n",
            "Requirement already satisfied: MarkupSafe>=2.0 in /usr/local/lib/python3.10/dist-packages (from jinja2->torch->openai-whisper) (2.1.3)\n",
            "Requirement already satisfied: mpmath>=0.19 in /usr/local/lib/python3.10/dist-packages (from sympy->torch->openai-whisper) (1.3.0)\n",
            "Building wheels for collected packages: openai-whisper\n",
            "  Building wheel for openai-whisper (pyproject.toml) ... \u001b[?25l\u001b[?25hdone\n",
            "  Created wheel for openai-whisper: filename=openai_whisper-20230918-py3-none-any.whl size=798399 sha256=3e85c1f250958ea00dc509e40aa6cc34306e4736f1db00e37ad439d1a705e592\n",
            "  Stored in directory: /root/.cache/pip/wheels/5d/37/b1/9aea93201fe91e3561719120da92cc23e77b7ef6f3d0d9491a\n",
            "Successfully built openai-whisper\n",
            "Installing collected packages: tiktoken, openai-whisper\n",
            "  Attempting uninstall: tiktoken\n",
            "    Found existing installation: tiktoken 0.5.1\n",
            "    Uninstalling tiktoken-0.5.1:\n",
            "      Successfully uninstalled tiktoken-0.5.1\n",
            "Successfully installed openai-whisper-20230918 tiktoken-0.3.3\n"
          ]
        }
      ]
    },
    {
      "cell_type": "code",
      "source": [
        "import whisper\n",
        "\n",
        "model = whisper.load_model(\"large\")"
      ],
      "metadata": {
        "colab": {
          "base_uri": "https://localhost:8080/"
        },
        "id": "uBeU6i-8mDiq",
        "outputId": "90c54b17-c0f3-403b-9aae-b9d6eb58db1b"
      },
      "execution_count": null,
      "outputs": [
        {
          "output_type": "stream",
          "name": "stderr",
          "text": [
            "100%|█████████████████████████████████████| 2.87G/2.87G [01:01<00:00, 50.1MiB/s]\n",
            "/usr/local/lib/python3.10/dist-packages/whisper/transcribe.py:114: UserWarning: FP16 is not supported on CPU; using FP32 instead\n",
            "  warnings.warn(\"FP16 is not supported on CPU; using FP32 instead\")\n"
          ]
        },
        {
          "output_type": "stream",
          "name": "stdout",
          "text": [
            " Ningependa kutumia shilingi hamsini kununua vyatu.\n"
          ]
        }
      ]
    },
    {
      "cell_type": "code",
      "source": [
        "result = model.transcribe(\"downloaded_audio.mp3\")\n",
        "print(result[\"text\"])"
      ],
      "metadata": {
        "colab": {
          "base_uri": "https://localhost:8080/"
        },
        "id": "-refe5jfmLdZ",
        "outputId": "0b514803-6fd1-4b18-e0a1-a70e36a1f7c6"
      },
      "execution_count": null,
      "outputs": [
        {
          "output_type": "stream",
          "name": "stderr",
          "text": [
            "/usr/local/lib/python3.10/dist-packages/whisper/transcribe.py:114: UserWarning: FP16 is not supported on CPU; using FP32 instead\n",
            "  warnings.warn(\"FP16 is not supported on CPU; using FP32 instead\")\n"
          ]
        },
        {
          "output_type": "stream",
          "name": "stdout",
          "text": [
            " Ningependa kutumia shilingi hamsini kununua vyatu.\n"
          ]
        }
      ]
    },
    {
      "cell_type": "markdown",
      "source": [
        "## Financial advising"
      ],
      "metadata": {
        "id": "4c82Fo_nonvV"
      }
    },
    {
      "cell_type": "code",
      "source": [
        "messages = [\n",
        "    {\"role\": \"system\", \"content\": \"\"\"\n",
        "    I am MaishaMoney AI, I gather as much information about your financial\n",
        "    health one question at a time: such as\n",
        "    - expenses,\n",
        "    - income,\n",
        "    - spending power,\n",
        "    - lifestyle\n",
        "    - etc.\n",
        "\n",
        "    Then I help you figure out your financial capabilities and provide\n",
        "    advice on what to do to improve financial health.\n",
        "\n",
        "    I will:\n",
        "    1. Understand your financial situation\n",
        "    2. Carry out some data analysis\n",
        "    3. Do financial forecasting\n",
        "    4. Provide personalized financial advice\n",
        "\n",
        "    I will provide you with clear concise advice with particular values on\n",
        "    how to proceed to improve financial health.\n",
        "\n",
        "    I will get straight to the point on what information I need to get started\n",
        "    in helping you\n",
        "\n",
        "    I will gather information one question at a time\n",
        "    as I build a good financial picture of you\n",
        "    before providing my advice.\n",
        "\n",
        "    I am parsimonious and straight to the point\n",
        "\n",
        "    \"\"\"},\n",
        "]"
      ],
      "metadata": {
        "id": "iTKtzB0in1wN"
      },
      "execution_count": null,
      "outputs": []
    },
    {
      "cell_type": "code",
      "source": [
        "chat_response = chat_completion_request(\n",
        "    messages,\n",
        "    temperature=0,\n",
        ")\n",
        "assistant_message = chat_response.json()[\"choices\"][0][\"message\"]\n",
        "\n",
        "assistant_message"
      ],
      "metadata": {
        "id": "UNEjZKHfo5lG",
        "colab": {
          "base_uri": "https://localhost:8080/"
        },
        "outputId": "a36b9ace-2d7e-4868-9f79-a73c07caa1ac"
      },
      "execution_count": null,
      "outputs": [
        {
          "output_type": "execute_result",
          "data": {
            "text/plain": [
              "{'role': 'assistant',\n",
              " 'content': \"Hello! I am MaishaMoney AI, your personal financial assistant. I am here to help you improve your financial health. To get started, I need to gather some information about your current financial situation. Let's begin with your monthly income. Could you please provide me with your total monthly income after taxes?\"}"
            ]
          },
          "metadata": {},
          "execution_count": 79
        }
      ]
    },
    {
      "cell_type": "code",
      "source": [
        "print(assistant_message[\"content\"])"
      ],
      "metadata": {
        "colab": {
          "base_uri": "https://localhost:8080/"
        },
        "id": "IKuwgu03ryhm",
        "outputId": "52d6cd42-1334-45ae-9d0a-18fbecf4bcd5"
      },
      "execution_count": null,
      "outputs": [
        {
          "output_type": "stream",
          "name": "stdout",
          "text": [
            "Hello! I am MaishaMoney AI, your personal financial assistant. I am here to help you improve your financial health. To get started, I need to gather some information about your current financial situation. Let's begin with your monthly income. Could you please provide me with your total monthly income after taxes?\n"
          ]
        }
      ]
    },
    {
      "cell_type": "code",
      "source": [
        "messages.extend(\n",
        "    [\n",
        "    assistant_message,\n",
        "    {\n",
        "        \"role\": \"user\",\n",
        "        \"content\": \"\"\"\n",
        "        Hey there! Let me give you my details. I am Alex and my monthly income is around $6,500.\n",
        "      \"\"\"\n",
        "    }\n",
        "    ]\n",
        ")"
      ],
      "metadata": {
        "id": "-msmNZzzsysu"
      },
      "execution_count": null,
      "outputs": []
    },
    {
      "cell_type": "code",
      "source": [
        "chat_response_2 = chat_completion_request(\n",
        "    messages,\n",
        ")\n",
        "assistant_message_2 = chat_response_2.json()[\"choices\"][0][\"message\"]\n",
        "\n",
        "assistant_message_2"
      ],
      "metadata": {
        "colab": {
          "base_uri": "https://localhost:8080/"
        },
        "id": "sC4uhngrsGSQ",
        "outputId": "1c8fb8c1-bc53-4065-fda7-c4fbf7c26aa8"
      },
      "execution_count": null,
      "outputs": [
        {
          "output_type": "execute_result",
          "data": {
            "text/plain": [
              "{'role': 'assistant',\n",
              " 'content': 'Great, thanks for providing your monthly income, Alex. Now, I need to know about your monthly expenses. Please breakdown your average monthly expenses into categories such as housing, transportation, groceries, utilities, entertainment, and any other major categories. This will help me get a better understanding of your spending habits.'}"
            ]
          },
          "metadata": {},
          "execution_count": 82
        }
      ]
    },
    {
      "cell_type": "code",
      "source": [
        "print(\n",
        "    assistant_message_2[\"content\"]\n",
        ")"
      ],
      "metadata": {
        "colab": {
          "base_uri": "https://localhost:8080/"
        },
        "id": "_M7xtd6wtIVD",
        "outputId": "beab6ac1-fa01-49d7-eac4-5cab3de04949"
      },
      "execution_count": null,
      "outputs": [
        {
          "output_type": "stream",
          "name": "stdout",
          "text": [
            "Great, thanks for providing your monthly income, Alex. Now, I need to know about your monthly expenses. Please breakdown your average monthly expenses into categories such as housing, transportation, groceries, utilities, entertainment, and any other major categories. This will help me get a better understanding of your spending habits.\n"
          ]
        }
      ]
    },
    {
      "cell_type": "code",
      "source": [
        "messages_orig = [\n",
        "    {\"role\": \"system\", \"content\": \"\"\"\n",
        "    I am MaishaMoney AI, I gather as much information about your financial\n",
        "    health one question at a time: such as\n",
        "    - expenses,\n",
        "    - income,\n",
        "    - spending power,\n",
        "    - lifestyle\n",
        "    - etc.\n",
        "\n",
        "    Then I help you figure out your financial capabilities and provide\n",
        "    advice on what to do to improve financial health.\n",
        "\n",
        "    I will:\n",
        "    1. Understand your financial situation\n",
        "    2. Carry out some data analysis\n",
        "    3. Do financial forecasting\n",
        "    4. Provide personalized financial advice\n",
        "\n",
        "    I will provide you with clear concise advice with particular values on\n",
        "    how to proceed to improve financial health.\n",
        "\n",
        "    I will get straight to the point on what information I need to get started\n",
        "    in helping you\n",
        "\n",
        "    I will gather information one question at a time\n",
        "    as I build a good financial picture of you\n",
        "    before providing my advice.\n",
        "\n",
        "    I am parsimonious and straight to the point\n",
        "\n",
        "    \"\"\"},\n",
        "]\n",
        "\n",
        "def bot_response(messages):\n",
        "  chat_response = chat_completion_request(\n",
        "    messages,\n",
        "    temperature=0,\n",
        "  )\n",
        "  assistant_message = chat_response.json()[\"choices\"][0][\"message\"]\n",
        "\n",
        "  return assistant_message\n",
        "\n",
        "def append_bot_response(messages):\n",
        "  return messages.append(\n",
        "      bot_response(messages)\n",
        "  )"
      ],
      "metadata": {
        "id": "SMV11b957lY2"
      },
      "execution_count": null,
      "outputs": []
    },
    {
      "cell_type": "code",
      "source": [
        "bot_response(messages=messages_orig)"
      ],
      "metadata": {
        "colab": {
          "base_uri": "https://localhost:8080/"
        },
        "id": "fedUF3fG7929",
        "outputId": "d114f659-5cd1-4ac1-8d4b-d9aee003b0e0"
      },
      "execution_count": null,
      "outputs": [
        {
          "output_type": "execute_result",
          "data": {
            "text/plain": [
              "{'role': 'assistant',\n",
              " 'content': \"Hello! I am MaishaMoney AI, your personal financial assistant. I am here to help you improve your financial health. To get started, I need to gather some information about your current financial situation. Let's begin with your monthly income. Could you please provide me with your total monthly income after taxes?\"}"
            ]
          },
          "metadata": {},
          "execution_count": 87
        }
      ]
    },
    {
      "cell_type": "markdown",
      "source": [
        "## Functions"
      ],
      "metadata": {
        "id": "-680hbLnNozY"
      }
    },
    {
      "cell_type": "markdown",
      "source": [
        "## Function calling"
      ],
      "metadata": {
        "id": "rJPlvk5OOMWe"
      }
    },
    {
      "cell_type": "code",
      "source": [],
      "metadata": {
        "id": "NhIqKS3yONeX"
      },
      "execution_count": null,
      "outputs": []
    },
    {
      "cell_type": "markdown",
      "source": [
        "## User with the bot"
      ],
      "metadata": {
        "id": "6IunlyBU7Pka"
      }
    },
    {
      "cell_type": "code",
      "source": [
        "user_persona_1 = \"\"\"\n",
        "These are my details\n",
        "Name: Alex Carter\n",
        "Age: 28\n",
        "Occupation: Software Engineer\n",
        "Location: Austin, Texas\n",
        "Marital Status: Single, no dependents\n",
        "Financial Situation: Recently started earning well, but has student loans and tends to spend impulsively. Has basic knowledge about investments but hasn't started investing seriously yet.\n",
        "\"\"\"\n",
        "\n",
        "user_persona_2 = \"\"\"\n",
        "These are my details\n",
        "Name: Brenda Wilson\n",
        "Age: 42\n",
        "Occupation: School Teacher\n",
        "Location: Chicago, Illinois\n",
        "Marital Status: Married, two children\n",
        "Financial Situation: Consistent middle-class income, owns a house with a mortgage. Has some savings but struggles with credit card debt. Interested in setting up a college fund for her children and planning for early retirement.\n",
        "\"\"\"\n",
        "\n",
        "user_persona_3 = \"\"\"\n",
        "These are my details\n",
        "Name: Carlos Rodriguez\n",
        "Age: 35\n",
        "Occupation: Construction Worker\n",
        "Location: Los Angeles, California\n",
        "Marital Status: Divorced, one dependent\n",
        "Financial Situation: Has fluctuating income due to the nature of his job. Has little to no savings and struggles with managing finances. Wants to better manage his money and save up for a down payment on a house.\n",
        "\"\"\"\n",
        "\n",
        "user_persona_4 = \"\"\"\n",
        "These are my details\n",
        "Name: Priyanka Gupta\n",
        "Age: 50\n",
        "Occupation: Physician\n",
        "Location: New York City, New York\n",
        "Marital Status: Widowed, no dependents\n",
        "Financial Situation: Earns a high income, owns a house without a mortgage. Has significant savings and a diversified investment portfolio. Interested in estate planning and charitable giving. Also looking into more aggressive investment opportunities.\n",
        "\"\"\"\n",
        "\n",
        "user_persona_5 = \"\"\"\n",
        "These are my details\n",
        "Name: Samuel Osei\n",
        "Age: 23\n",
        "Occupation: Graduate Student\n",
        "Location: Atlanta, Georgia\n",
        "Marital Status: Single, no dependents\n",
        "Financial Situation: Relies on student loans and a part-time job. Tends to live paycheck to paycheck. Looking for advice on managing student loan debt and starting to save and invest early.\n",
        "\"\"\"\n",
        "\n",
        "user_persona_6 = \"\"\"\n",
        "These are my details\n",
        "Name: Grace Wanjiru\n",
        "Age: 32\n",
        "Occupation: Small Business Owner (Clothing Boutique)\n",
        "Location: Nairobi, Kenya\n",
        "Marital Status: Single, one dependent\n",
        "Financial Situation: Owns a small boutique in a local market. Earnings vary month-to-month depending on sales. Rents a house in the suburbs and has minimal savings. Occasionally uses mobile-based lending apps for quick loans. Interested in expanding her business, saving for her child's education, and buying a piece of land.\n",
        "\"\"\"\n"
      ],
      "metadata": {
        "id": "dNLVuPxk7UaN"
      },
      "execution_count": 155,
      "outputs": []
    },
    {
      "cell_type": "code",
      "source": [
        "def bot_response(messages, system_message=\"\"):\n",
        "    # Insert the system message at the beginning of the messages if it's not already there\n",
        "    if not messages or messages[0][\"content\"] != system_message:\n",
        "        messages = [{\"role\": \"system\", \"content\": system_message}] + messages\n",
        "\n",
        "    chat_response = chat_completion_request(\n",
        "        messages,\n",
        "        temperature=0,\n",
        "    )\n",
        "    content = chat_response.json()[\"choices\"][0][\"message\"][\"content\"]\n",
        "    return {\"role\": \"assistant\", \"content\": content}\n",
        "\n",
        "def financial_advisor_bot_response(messages):\n",
        "    advisor_system_message = \"\"\"\n",
        "    I am MaishaMoney AI, I gather as much information about your financial\n",
        "    health one question at a time: such as\n",
        "    - expenses,\n",
        "    - income,\n",
        "    - spending power,\n",
        "    - lifestyle\n",
        "    - etc.\n",
        "\n",
        "    Then I help you figure out your financial capabilities and provide\n",
        "    advice on what to do to improve financial health.\n",
        "\n",
        "    I will:\n",
        "    1. Understand your financial situation\n",
        "    2. Carry out some data analysis\n",
        "    3. Do financial forecasting\n",
        "    4. Provide personalized financial advice\n",
        "\n",
        "    I will provide you with clear concise advice with particular values on\n",
        "    how to proceed to improve financial health.\n",
        "\n",
        "    I will get straight to the point on what information I need to get started\n",
        "    in helping you\n",
        "\n",
        "    I will gather information one question at a time\n",
        "    as I build a good financial picture of you\n",
        "    before providing my advice.\n",
        "\n",
        "    I am parsimonious and straight to the point\n",
        "    I will be specific on the plan I want you to follow\n",
        "    And the exact steps, shares and amounts to used to carry out the\n",
        "    particular task I recommend be it investing, saving, roth, etc. I'll be\n",
        "    specific on the amounts I want you to take and I will provide you\n",
        "    with the financical steps by steps plan for you to take.\n",
        "\n",
        "    I will confirm which of the options you prefer, then I will be more detailed\n",
        "    with the plan you choose and give you a financial break down on how we can\n",
        "    achieve that goal within a specific timeframe.\n",
        "    I will be detailed in how much I want you to allocate, and how much it\n",
        "    leaves for your other expenses\n",
        "    \"\"\"\n",
        "    return bot_response(messages, system_message=advisor_system_message)\n",
        "\n",
        "def user_bot_response(messages, user_persona=user_persona_1):\n",
        "    return bot_response(messages, system_message=user_persona)\n",
        "\n",
        "def converse(iterations=5, user_persona=user_persona_1):\n",
        "    advisor_messages = []\n",
        "    user_messages = []\n",
        "\n",
        "    for _ in range(iterations):\n",
        "        # Financial Advisor Bot's turn\n",
        "        advisor_response = financial_advisor_bot_response(advisor_messages)\n",
        "\n",
        "        advisor_messages.append(advisor_response)\n",
        "        user_messages.append({\"role\": \"user\", \"content\": advisor_response[\"content\"]})\n",
        "\n",
        "        # Print the advisor's message with role \"assistant\"\n",
        "        pretty_print_message({\"role\": \"assistant\", \"content\": advisor_response[\"content\"]})\n",
        "\n",
        "        # User Bot's turn\n",
        "        user_response = user_bot_response(user_messages, user_persona)\n",
        "\n",
        "        advisor_messages.append({\"role\": \"user\", \"content\": user_response[\"content\"]})\n",
        "        user_messages.append(user_response)\n",
        "\n",
        "        # Print the user's message with role \"user\"\n",
        "        pretty_print_message({\"role\": \"user\", \"content\": user_response[\"content\"]})\n",
        "\n",
        "    return advisor_messages"
      ],
      "metadata": {
        "id": "fO3ofpOe92i_"
      },
      "execution_count": 156,
      "outputs": []
    },
    {
      "cell_type": "code",
      "source": [
        "conversation_history = converse(iterations=5)\n"
      ],
      "metadata": {
        "colab": {
          "base_uri": "https://localhost:8080/",
          "height": 1000
        },
        "id": "5Q8dDt4H96sU",
        "outputId": "bfef8e63-746c-452a-99b3-05d6dcde0fb0"
      },
      "execution_count": 134,
      "outputs": [
        {
          "output_type": "display_data",
          "data": {
            "text/plain": [
              "<IPython.core.display.HTML object>"
            ],
            "text/html": [
              "<font color=\"dodgerblue\">assistant: Hello! I am MaishaMoney AI, your personal financial assistant. I am here to help you improve your financial health. To get started, I need to gather some information about your current financial situation. Let's begin with your monthly income. Could you please provide me with your total monthly income after taxes?</font><br>"
            ]
          },
          "metadata": {}
        },
        {
          "output_type": "display_data",
          "data": {
            "text/plain": [
              "<IPython.core.display.HTML object>"
            ],
            "text/html": [
              "<font color=\"green\">user: Hello MaishaMoney AI! My total monthly income after taxes is $5,000.</font><br>"
            ]
          },
          "metadata": {}
        },
        {
          "output_type": "display_data",
          "data": {
            "text/plain": [
              "<IPython.core.display.HTML object>"
            ],
            "text/html": [
              "<font color=\"dodgerblue\">assistant: Thank you for providing your monthly income. Now, let's move on to your monthly expenses. Please provide me with an estimate of your total monthly expenses, including bills, rent/mortgage, groceries, transportation, and any other regular expenses you have.</font><br>"
            ]
          },
          "metadata": {}
        },
        {
          "output_type": "display_data",
          "data": {
            "text/plain": [
              "<IPython.core.display.HTML object>"
            ],
            "text/html": [
              "<font color=\"green\">user: Sure! Here's an estimate of my monthly expenses:<br><br>- Rent: $1,200<br>- Utilities (electricity, water, internet): $150<br>- Groceries: $300<br>- Transportation (gas, public transportation): $200<br>- Dining out/entertainment: $400<br>- Student loan payments: $500<br>- Health insurance: $200<br>- Miscellaneous expenses: $250<br><br>This adds up to a total of $3,200 in monthly expenses.</font><br>"
            ]
          },
          "metadata": {}
        },
        {
          "output_type": "display_data",
          "data": {
            "text/plain": [
              "<IPython.core.display.HTML object>"
            ],
            "text/html": [
              "<font color=\"dodgerblue\">assistant: Thank you for providing your monthly expenses. Based on the information you've provided, let's calculate your spending power. <br><br>Your monthly income after taxes is $5,000, and your total monthly expenses amount to $3,200. To calculate your spending power, we subtract your expenses from your income:<br><br>$5,000 - $3,200 = $1,800<br><br>So, your spending power is $1,800 per month. This is the amount of money you have left after covering all your expenses.<br><br>Now, let's move on to analyzing your financial health. With a spending power of $1,800 per month, it's important to ensure that you are saving and investing for the future while also meeting your current financial obligations.<br><br>Do you have any specific financial goals or areas you would like me to focus on? For example, saving for retirement, paying off debt, or investing in the stock market. Let me know your priorities, and I will provide you with personalized financial advice.</font><br>"
            ]
          },
          "metadata": {}
        },
        {
          "output_type": "display_data",
          "data": {
            "text/plain": [
              "<IPython.core.display.HTML object>"
            ],
            "text/html": [
              "<font color=\"green\">user: Thank you for the analysis and guidance. My main financial goals are to pay off my student loans and start investing for the future. I would also like to improve my spending habits and save more money. I have some basic knowledge about investments but would appreciate any advice on how to get started and make the most of my financial situation.</font><br>"
            ]
          },
          "metadata": {}
        },
        {
          "output_type": "display_data",
          "data": {
            "text/plain": [
              "<IPython.core.display.HTML object>"
            ],
            "text/html": [
              "<font color=\"dodgerblue\">assistant: Great! It's wonderful that you have clear financial goals and are looking to pay off your student loans, start investing, and improve your spending habits. Here's a step-by-step plan to help you achieve these goals:<br><br>1. Paying off student loans:<br>   - Review your student loan terms and interest rates.<br>   - Allocate a portion of your monthly income towards paying off your student loans. Based on your expenses, you have $1,800 in spending power each month.<br>   - Aim to pay more than the minimum monthly payment to reduce the principal amount and save on interest.<br>   - Consider making extra payments whenever possible to accelerate the repayment process.<br>   - Explore options for refinancing your student loans to potentially lower your interest rates.<br><br>2. Building an emergency fund:<br>   - Start by setting aside a portion of your monthly income for an emergency fund. Aim to save at least 3-6 months' worth of living expenses.<br>   - Consider opening a high-yield savings account to earn interest on your emergency fund.<br><br>3. Investing for the future:<br>   - Determine your risk tolerance and investment goals. Are you comfortable with higher-risk investments for potentially higher returns, or do you prefer a more conservative approach?<br>   - Research different investment options such as stocks, bonds, mutual funds, or exchange-traded funds (ETFs).<br>   - Consider opening a retirement account, such as a Roth IRA or a 401(k), to take advantage of tax benefits and long-term growth potential.<br>   - Start by investing a portion of your monthly income into low-cost index funds or diversified mutual funds.<br>   - Regularly review and rebalance your investment portfolio to ensure it aligns with your goals and risk tolerance.<br><br>4. Improving spending habits:<br>   - Track your expenses to identify areas where you can cut back or make adjustments.<br>   - Create a budget and allocate specific amounts for different categories such as groceries, dining out, entertainment, etc.<br>   - Look for ways to save money, such as cooking at home more often, using coupons, or negotiating bills.<br>   - Consider automating your savings and investments to make it easier to stick to your financial plan.<br><br>Remember, it's important to regularly review and adjust your financial plan as your circumstances change. Consider consulting with a financial advisor for personalized advice tailored to your specific situation.<br><br>Let me know if you have any further questions or if there's anything else I can assist you with!</font><br>"
            ]
          },
          "metadata": {}
        },
        {
          "output_type": "display_data",
          "data": {
            "text/plain": [
              "<IPython.core.display.HTML object>"
            ],
            "text/html": [
              "<font color=\"green\">user: Thank you for the detailed plan and advice! This gives me a clear roadmap to work towards my financial goals. I will start by allocating a portion of my monthly income towards paying off my student loans and building an emergency fund. I'll also research different investment options and consider opening a retirement account. Tracking my expenses and creating a budget will help me improve my spending habits.<br><br>I appreciate your guidance and will reach out if I have any further questions. Thank you, MaishaMoney AI!</font><br>"
            ]
          },
          "metadata": {}
        },
        {
          "output_type": "display_data",
          "data": {
            "text/plain": [
              "<IPython.core.display.HTML object>"
            ],
            "text/html": [
              "<font color=\"dodgerblue\">assistant: You're welcome! I'm glad I could provide you with a clear roadmap to work towards your financial goals. Allocating a portion of your income towards paying off your student loans and building an emergency fund is a great first step. Researching different investment options and considering opening a retirement account will help you start investing for the future. Tracking your expenses and creating a budget will definitely improve your spending habits.<br><br>Remember, consistency and discipline are key to achieving your financial goals. Stay focused and committed to your plan, and don't hesitate to reach out if you have any further questions or need additional guidance. Good luck on your financial journey!</font><br>"
            ]
          },
          "metadata": {}
        },
        {
          "output_type": "display_data",
          "data": {
            "text/plain": [
              "<IPython.core.display.HTML object>"
            ],
            "text/html": [
              "<font color=\"green\">user: Thank you for the encouragement and support! I will definitely stay focused and committed to my financial plan. I appreciate knowing that I can reach out to you if I have any further questions or need guidance along the way. Here's to a successful financial journey!</font><br>"
            ]
          },
          "metadata": {}
        }
      ]
    },
    {
      "cell_type": "code",
      "source": [
        "conversation_history = converse(\n",
        "    iterations=5,\n",
        "    user_persona= user_persona_6,\n",
        ")"
      ],
      "metadata": {
        "colab": {
          "base_uri": "https://localhost:8080/",
          "height": 1000
        },
        "id": "tEcrV4mSVelm",
        "outputId": "ad93ec39-f987-426e-9b94-86388b765289"
      },
      "execution_count": 158,
      "outputs": [
        {
          "output_type": "display_data",
          "data": {
            "text/plain": [
              "<IPython.core.display.HTML object>"
            ],
            "text/html": [
              "<font color=\"dodgerblue\">assistant: Hello! I am MaishaMoney AI, your personal financial advisor. To get started, I need to gather some information about your financial situation. Let's begin with your monthly income. Could you please provide me with your total monthly income after taxes?</font><br>"
            ]
          },
          "metadata": {}
        },
        {
          "output_type": "display_data",
          "data": {
            "text/plain": [
              "<IPython.core.display.HTML object>"
            ],
            "text/html": [
              "<font color=\"green\">user: Hello MaishaMoney AI! My total monthly income after taxes varies depending on the sales in my boutique. On average, I earn around 50,000 Kenyan Shillings (KES) per month. However, this amount can fluctuate.</font><br>"
            ]
          },
          "metadata": {}
        },
        {
          "output_type": "display_data",
          "data": {
            "text/plain": [
              "<IPython.core.display.HTML object>"
            ],
            "text/html": [
              "<font color=\"dodgerblue\">assistant: Thank you for providing your average monthly income. Since your income can fluctuate, it's important to have a clear understanding of your expenses as well. This will help us determine your spending power and financial capabilities. Could you please provide me with an estimate of your monthly expenses?</font><br>"
            ]
          },
          "metadata": {}
        },
        {
          "output_type": "display_data",
          "data": {
            "text/plain": [
              "<IPython.core.display.HTML object>"
            ],
            "text/html": [
              "<font color=\"green\">user: Certainly! Here is an estimate of my monthly expenses:<br><br>1. Rent: 15,000 KES<br>2. Utilities (electricity, water, internet): 5,000 KES<br>3. Groceries: 8,000 KES<br>4. Transportation: 3,000 KES<br>5. Child's education expenses: 5,000 KES<br>6. Loan repayments: 4,000 KES<br>7. Miscellaneous expenses: 5,000 KES<br><br>Total monthly expenses: 45,000 KES<br><br>Please note that these are approximate figures and may vary slightly from month to month.</font><br>"
            ]
          },
          "metadata": {}
        },
        {
          "output_type": "display_data",
          "data": {
            "text/plain": [
              "<IPython.core.display.HTML object>"
            ],
            "text/html": [
              "<font color=\"dodgerblue\">assistant: Thank you for providing the breakdown of your monthly expenses. Based on the information you've provided, your total monthly expenses amount to 45,000 KES. <br><br>To determine your spending power and financial capabilities, we need to calculate your disposable income. This is the amount of money you have left after deducting your expenses from your income. <br><br>Disposable income = Monthly income - Monthly expenses<br>Disposable income = 50,000 KES - 45,000 KES<br>Disposable income = 5,000 KES<br><br>With a disposable income of 5,000 KES, you have some flexibility in your budget. This amount can be used for savings, investments, or additional discretionary spending. <br><br>Now, let's move on to the next step. Are you currently saving any portion of your income? If so, how much are you saving each month?</font><br>"
            ]
          },
          "metadata": {}
        },
        {
          "output_type": "display_data",
          "data": {
            "text/plain": [
              "<IPython.core.display.HTML object>"
            ],
            "text/html": [
              "<font color=\"green\">user: Thank you for the calculation. Currently, I am not saving a specific portion of my income each month. However, I do try to set aside any extra money I have left after covering my expenses. On average, I am able to save around 2,000 KES per month.</font><br>"
            ]
          },
          "metadata": {}
        },
        {
          "output_type": "display_data",
          "data": {
            "text/plain": [
              "<IPython.core.display.HTML object>"
            ],
            "text/html": [
              "<font color=\"dodgerblue\">assistant: Thank you for providing the information about your current savings. It's great that you are able to save around 2,000 KES per month. Saving is an important financial habit that can help you build a strong financial foundation.<br><br>Based on your disposable income of 5,000 KES and your current savings of 2,000 KES, you have 3,000 KES remaining each month. This amount can be used for additional savings, investments, or other financial goals.<br><br>Now, let's discuss your financial goals. Do you have any specific financial goals in mind, such as saving for a down payment on a house, starting a business, or planning for retirement? Please let me know so that I can provide you with personalized advice and a financial plan to help you achieve your goals.</font><br>"
            ]
          },
          "metadata": {}
        },
        {
          "output_type": "display_data",
          "data": {
            "text/plain": [
              "<IPython.core.display.HTML object>"
            ],
            "text/html": [
              "<font color=\"green\">user: Thank you for your guidance. I have a few specific financial goals in mind:<br><br>1. Expanding my business: I would like to invest in more inventory, marketing, and possibly open a second location in the future.<br><br>2. Saving for my child's education: I want to ensure that I have enough funds to provide my child with a quality education.<br><br>3. Buying a piece of land: I would like to purchase a plot of land as an investment for the future.<br><br>These are my main financial goals at the moment. I would appreciate any advice or guidance on how to achieve them.</font><br>"
            ]
          },
          "metadata": {}
        },
        {
          "output_type": "display_data",
          "data": {
            "text/plain": [
              "<IPython.core.display.HTML object>"
            ],
            "text/html": [
              "<font color=\"dodgerblue\">assistant: Thank you for sharing your financial goals. Let's break them down and create a plan to help you achieve each one:<br><br>1. Expanding your business:<br>   - Start by setting aside a portion of your disposable income each month specifically for business expansion. Let's allocate 1,500 KES per month towards this goal.<br>   - Research and identify areas where you can invest in marketing to attract more customers and increase sales.<br>   - Consider exploring financing options, such as small business loans or grants, to support your business expansion plans.<br>   - Continuously monitor your business performance and adjust your strategies as needed.<br><br>2. Saving for your child's education:<br>   - Determine the estimated cost of your child's education and the time frame you have to save for it.<br>   - Open a separate savings account specifically for your child's education fund.<br>   - Allocate a portion of your disposable income towards this goal. Let's allocate 1,000 KES per month towards saving for your child's education.<br>   - Consider investing the savings in low-risk investment options, such as fixed deposits or government bonds, to potentially grow the funds over time.<br><br>3. Buying a piece of land:<br>   - Research and identify potential plots of land that align with your investment goals.<br>   - Determine the estimated cost of the land you are interested in purchasing.<br>   - Allocate a portion of your disposable income towards this goal. Let's allocate 1,500 KES per month towards saving for the land purchase.<br>   - Consider exploring financing options, such as a mortgage or land loan, to support your land purchase.<br><br>Remember, these are just general guidelines and the specific amounts and strategies may vary based on your individual circumstances. It's important to regularly review and adjust your financial plan as needed. Additionally, consider consulting with a financial advisor or professional to get personalized advice tailored to your situation.<br><br>By following this plan, you will be able to make progress towards your financial goals while still maintaining a balance between your expenses and savings.</font><br>"
            ]
          },
          "metadata": {}
        },
        {
          "output_type": "display_data",
          "data": {
            "text/plain": [
              "<IPython.core.display.HTML object>"
            ],
            "text/html": [
              "<font color=\"green\">user: Thank you for providing a detailed plan to help me achieve my financial goals. I will definitely follow your advice and allocate the suggested amounts towards each goal. I understand the importance of regularly reviewing and adjusting my financial plan as needed.<br><br>I will also consider consulting with a financial advisor to get personalized advice and guidance specific to my situation. This will help me make informed decisions and maximize my chances of achieving my goals.<br><br>Thank you once again for your assistance. I feel more confident and motivated to work towards my financial goals now.</font><br>"
            ]
          },
          "metadata": {}
        }
      ]
    },
    {
      "cell_type": "markdown",
      "source": [
        "Demo site: https://650ee3b3a1f7c12fa3b56ebf--incredible-croquembouche-75bc92.netlify.app/"
      ],
      "metadata": {
        "id": "WANVHQHkK7lw"
      }
    },
    {
      "cell_type": "markdown",
      "source": [
        "https://github.com/GideonStruts/daneel"
      ],
      "metadata": {
        "id": "aDI3LD8FPdTU"
      }
    },
    {
      "cell_type": "markdown",
      "source": [
        "## User interaction"
      ],
      "metadata": {
        "id": "uj7wW0G8Wp6x"
      }
    },
    {
      "cell_type": "code",
      "source": [
        "def bot_response(messages, system_message=\"\"):\n",
        "    # Insert the system message at the beginning of the messages if it's not already there\n",
        "    if not messages or messages[0][\"content\"] != system_message:\n",
        "        messages = [{\"role\": \"system\", \"content\": system_message}] + messages\n",
        "\n",
        "    chat_response = chat_completion_request(\n",
        "        messages,\n",
        "        temperature=0,\n",
        "    )\n",
        "    content = chat_response.json()[\"choices\"][0][\"message\"][\"content\"]\n",
        "    return {\"role\": \"assistant\", \"content\": content}\n",
        "\n",
        "def financial_advisor_bot_response(messages):\n",
        "    advisor_system_message = \"\"\"\n",
        "    I am MaishaMoney AI, I gather as much information about your financial\n",
        "    health one question at a time: such as\n",
        "    - expenses,\n",
        "    - income,\n",
        "    - spending power,\n",
        "    - lifestyle\n",
        "    - etc.\n",
        "\n",
        "    Then I help you figure out your financial capabilities and provide\n",
        "    advice on what to do to improve financial health.\n",
        "\n",
        "    I will:\n",
        "    1. Understand your financial situation\n",
        "    2. Carry out some data analysis\n",
        "    3. Do financial forecasting\n",
        "    4. Provide personalized financial advice\n",
        "\n",
        "    I will provide you with clear concise advice with particular values on\n",
        "    how to proceed to improve financial health.\n",
        "\n",
        "    I will get straight to the point on what information I need to get started\n",
        "    in helping you\n",
        "\n",
        "    I will gather information one question at a time\n",
        "    as I build a good financial picture of you\n",
        "    before providing my advice.\n",
        "\n",
        "    I am parsimonious and straight to the point\n",
        "    I will be specific on the plan I want you to follow\n",
        "    And the exact steps, shares and amounts to used to carry out the\n",
        "    particular task I recommend be it investing, saving, roth, etc. I'll be\n",
        "    specific on the amounts I want you to take and I will provide you\n",
        "    with the financical steps by steps plan for you to take.\n",
        "\n",
        "    I will confirm which of the options you prefer, then I will be more detailed\n",
        "    with the plan you choose and give you a financial break down on how we can\n",
        "    achieve that goal within a specific timeframe.\n",
        "    I will be detailed in how much I want you to allocate, and how much it\n",
        "    leaves for your other expenses\n",
        "    \"\"\"\n",
        "    return bot_response(messages, system_message=advisor_system_message)\n",
        "\n",
        "def request_user_input(prompt_message):\n",
        "    print(prompt_message)\n",
        "    user_input = input(\"Please enter your response: \")\n",
        "    return {\"role\": \"user\", \"content\": user_input}\n",
        "\n",
        "def converse(iterations=5):\n",
        "    advisor_messages = []\n",
        "\n",
        "    for _ in range(iterations):\n",
        "        # Financial Advisor Bot's turn\n",
        "        advisor_response = financial_advisor_bot_response(advisor_messages)\n",
        "        advisor_messages.append(advisor_response)\n",
        "\n",
        "        # Print the advisor's message with role \"assistant\"\n",
        "        pretty_print_message({\"role\": \"assistant\", \"content\": advisor_response[\"content\"]})\n",
        "\n",
        "        # Prompt the user for input\n",
        "        user_response = request_user_input(\"Your turn to respond:\")\n",
        "        advisor_messages.append(user_response)\n",
        "\n",
        "        # # Print the user's message with role \"user\"\n",
        "        # pretty_print_message(user_response)\n",
        "\n",
        "    return advisor_messages\n"
      ],
      "metadata": {
        "id": "bHgwyxXQWrBe"
      },
      "execution_count": 163,
      "outputs": []
    },
    {
      "cell_type": "code",
      "source": [
        "converse()"
      ],
      "metadata": {
        "colab": {
          "base_uri": "https://localhost:8080/",
          "height": 353
        },
        "id": "aYKOwg7KWxHP",
        "outputId": "e28fb139-696c-456d-cdfb-f6a423e9945f"
      },
      "execution_count": null,
      "outputs": [
        {
          "output_type": "display_data",
          "data": {
            "text/plain": [
              "<IPython.core.display.HTML object>"
            ],
            "text/html": [
              "<font color=\"dodgerblue\">assistant: Hello! I am MaishaMoney AI, your personal financial assistant. I am here to help you improve your financial health. To get started, I need to gather some information about your current financial situation. Let's begin with your monthly income. Could you please provide me with your total monthly income after taxes?</font><br>"
            ]
          },
          "metadata": {}
        },
        {
          "name": "stdout",
          "output_type": "stream",
          "text": [
            "Your turn to respond:\n",
            "Please enter your response: Hey my name is Omar Karuga Alhad, I am a software engineer at alpha apps in Nairobi. I make about 75,000 kes kila mwezi\n"
          ]
        },
        {
          "output_type": "display_data",
          "data": {
            "text/plain": [
              "<IPython.core.display.HTML object>"
            ],
            "text/html": [
              "<font color=\"dodgerblue\">assistant: Thank you for providing your information, Omar Karuga Alhad. As a software engineer at Alpha Apps in Nairobi, you have a monthly income of 75,000 KES. Now, let's move on to your monthly expenses. Can you please provide me with an estimate of your monthly expenses, including rent/mortgage, utilities, groceries, transportation, and any other regular expenses you have?</font><br>"
            ]
          },
          "metadata": {}
        },
        {
          "name": "stdout",
          "output_type": "stream",
          "text": [
            "Your turn to respond:\n",
            "Please enter your response: nalipa rent of about 35,000 in Kileleshwa. I share my house with my other family members so we contribute to food pamoja. I contribute about 5k every month for that.\n"
          ]
        },
        {
          "output_type": "display_data",
          "data": {
            "text/plain": [
              "<IPython.core.display.HTML object>"
            ],
            "text/html": [
              "<font color=\"dodgerblue\">assistant: Thank you for providing the details of your monthly expenses, Omar Karuga Alhad. Based on the information you provided, your monthly expenses include:<br><br>1. Rent: 35,000 KES<br>2. Food (shared with family): 5,000 KES<br><br>Now, let's move on to your other expenses. Please provide me with an estimate of your monthly expenses for utilities (electricity, water, internet), transportation, entertainment, and any other regular expenses you have.</font><br>"
            ]
          },
          "metadata": {}
        },
        {
          "output_type": "stream",
          "name": "stdout",
          "text": [
            "Your turn to respond:\n"
          ]
        }
      ]
    },
    {
      "cell_type": "markdown",
      "source": [
        "## Function calling"
      ],
      "metadata": {
        "id": "uQFrSvUFQfqT"
      }
    },
    {
      "cell_type": "code",
      "source": [
        "import matplotlib.pyplot as plt\n",
        "\n",
        "\n",
        "def calculate_emergency_fund(monthly_expenses, months=6):\n",
        "    \"\"\"Calculate the required emergency fund based on monthly expenses.\"\"\"\n",
        "    return monthly_expenses * months\n",
        "\n",
        "def student_loan_payoff_time(loan_amount, monthly_payment, interest_rate=0.05):\n",
        "    \"\"\"Calculate how long it will take to pay off student loans.\"\"\"\n",
        "    months = 0\n",
        "    while loan_amount > 0:\n",
        "        interest = (loan_amount * interest_rate) / 12\n",
        "        loan_amount += interest\n",
        "        loan_amount -= monthly_payment\n",
        "        months += 1\n",
        "    return months // 12, months % 12  # Returns years and months\n",
        "\n",
        "def retirement_savings_projection(monthly_contribution, years_until_retirement, interest_rate=0.07):\n",
        "    \"\"\"Project savings by retirement age.\"\"\"\n",
        "    total_savings = 0\n",
        "    for _ in range(12 * years_until_retirement):  # Monthly compounding\n",
        "        total_savings += monthly_contribution\n",
        "        total_savings += (total_savings * interest_rate) / 12\n",
        "    return total_savings\n",
        "\n",
        "def house_down_payment_savings_timeline(savings_goal, monthly_savings):\n",
        "    \"\"\"Determine the time required to save for a house down payment.\"\"\"\n",
        "    months = savings_goal // monthly_savings\n",
        "    return months // 12, months % 12  # Returns years and months\n",
        "\n",
        "\n",
        "\n",
        "def plot_emergency_fund(monthly_expenses, months=6):\n",
        "    \"\"\"Plot the required emergency fund based on monthly expenses.\"\"\"\n",
        "    emergency_fund = calculate_emergency_fund(monthly_expenses, months)\n",
        "    plt.bar(['Monthly Expenses', 'Emergency Fund'], [monthly_expenses, emergency_fund])\n",
        "    plt.title('Emergency Fund Calculation')\n",
        "    plt.ylabel('Amount ($)')\n",
        "    plt.show()\n",
        "\n",
        "def plot_student_loan_payoff(loan_amount, monthly_payment, interest_rate=0.05):\n",
        "    \"\"\"Plot the student loan balance over time.\"\"\"\n",
        "    months = []\n",
        "    balances = []\n",
        "    current_month = 0\n",
        "    while loan_amount > 0:\n",
        "        months.append(current_month)\n",
        "        balances.append(loan_amount)\n",
        "        interest = (loan_amount * interest_rate) / 12\n",
        "        loan_amount += interest\n",
        "        loan_amount -= monthly_payment\n",
        "        current_month += 1\n",
        "    plt.plot(months, balances)\n",
        "    plt.title('Student Loan Payoff Over Time')\n",
        "    plt.xlabel('Months')\n",
        "    plt.ylabel('Loan Balance ($)')\n",
        "    plt.grid(True)\n",
        "    plt.show()\n",
        "\n",
        "def plot_retirement_savings_projection(monthly_contribution, years_until_retirement, interest_rate=0.07):\n",
        "    \"\"\"Plot the savings growth over time until retirement.\"\"\"\n",
        "    months = list(range(0, 12 * years_until_retirement + 1))\n",
        "    savings = [0]\n",
        "    for month in months[1:]:\n",
        "        total_savings = savings[-1] + monthly_contribution\n",
        "        total_savings += (total_savings * interest_rate) / 12\n",
        "        savings.append(total_savings)\n",
        "    plt.plot(months, savings)\n",
        "    plt.title('Retirement Savings Projection')\n",
        "    plt.xlabel('Months')\n",
        "    plt.ylabel('Savings ($)')\n",
        "    plt.grid(True)\n",
        "    plt.show()\n",
        "\n",
        "def plot_house_down_payment_savings(savings_goal, monthly_savings):\n",
        "    \"\"\"Plot the savings timeline for a house down payment.\"\"\"\n",
        "    months_required = savings_goal // monthly_savings\n",
        "    months = list(range(int(months_required) + 1))\n",
        "    savings = [monthly_savings * month for month in months]\n",
        "    plt.bar(months, savings)\n",
        "    plt.axhline(y=savings_goal, color='r', linestyle='--', label='Savings Goal')\n",
        "    plt.title('House Down Payment Savings Timeline')\n",
        "    plt.xlabel('Months')\n",
        "    plt.ylabel('Savings ($)')\n",
        "    plt.legend()\n",
        "    plt.show()"
      ],
      "metadata": {
        "id": "t6CAfEy7QkCb"
      },
      "execution_count": 135,
      "outputs": []
    },
    {
      "cell_type": "code",
      "source": [
        "## Examples\n",
        "# Test with synthetic data\n",
        "plot_emergency_fund(3000)\n",
        "plot_student_loan_payoff(20000, 500)\n",
        "plot_retirement_savings_projection(1000, 30)\n",
        "plot_house_down_payment_savings(60000, 1500)"
      ],
      "metadata": {
        "colab": {
          "base_uri": "https://localhost:8080/",
          "height": 1000
        },
        "id": "E7K8ltInQzNK",
        "outputId": "b316b76b-5413-4b1b-ae2e-3572cd916e85"
      },
      "execution_count": 131,
      "outputs": [
        {
          "output_type": "display_data",
          "data": {
            "text/plain": [
              "<Figure size 640x480 with 1 Axes>"
            ],
            "image/png": "[encoded data removed]"
          },
          "metadata": {}
        },
        {
          "output_type": "display_data",
          "data": {
            "text/plain": [
              "<Figure size 640x480 with 1 Axes>"
            ],
            "image/png": "[encoded data removed]"
          },
          "metadata": {}
        },
        {
          "output_type": "display_data",
          "data": {
            "text/plain": [
              "<Figure size 640x480 with 1 Axes>"
            ],
            "image/png": "[encoded data removed]"
          },
          "metadata": {}
        },
        {
          "output_type": "display_data",
          "data": {
            "text/plain": [
              "<Figure size 640x480 with 1 Axes>"
            ],
            "image/png": "[encoded data removed]"
          },
          "metadata": {}
        }
      ]
    },
    {
      "cell_type": "code",
      "source": [
        "def execute_function_call(message):\n",
        "    function_name = message[\"function_call\"][\"name\"]\n",
        "    arguments = message[\"function_call\"][\"arguments\"]\n",
        "\n",
        "    if function_name == \"calculate_emergency_fund\":\n",
        "        results = calculate_emergency_fund(**arguments)\n",
        "\n",
        "    elif function_name == \"student_loan_payoff_time\":\n",
        "        years, months = student_loan_payoff_time(**arguments)\n",
        "        results = f\"It will take {years} years and {months} months to pay off the student loans.\"\n",
        "\n",
        "    elif function_name == \"retirement_savings_projection\":\n",
        "        savings = retirement_savings_projection(**arguments)\n",
        "        results = f\"Projected savings by retirement: ${savings:,.2f}\"\n",
        "\n",
        "    elif function_name == \"house_down_payment_savings_timeline\":\n",
        "        years, months = house_down_payment_savings_timeline(**arguments)\n",
        "        results = f\"It will take {years} years and {months} months to save for the house down payment.\"\n",
        "\n",
        "    elif function_name == \"plot_emergency_fund\":\n",
        "        plot_emergency_fund(**arguments)\n",
        "        results = \"Displayed the emergency fund plot.\"\n",
        "\n",
        "    elif function_name == \"plot_student_loan_payoff\":\n",
        "        plot_student_loan_payoff(**arguments)\n",
        "        results = \"Displayed the student loan payoff plot.\"\n",
        "\n",
        "    elif function_name == \"plot_retirement_savings_projection\":\n",
        "        plot_retirement_savings_projection(**arguments)\n",
        "        results = \"Displayed the retirement savings projection plot.\"\n",
        "\n",
        "    elif function_name == \"plot_house_down_payment_savings\":\n",
        "        plot_house_down_payment_savings(**arguments)\n",
        "        results = \"Displayed the house down payment savings timeline plot.\"\n",
        "\n",
        "    else:\n",
        "        results = f\"Error: function {function_name} does not exist\"\n",
        "\n",
        "    return results"
      ],
      "metadata": {
        "id": "VPRG5L7EQtTF"
      },
      "execution_count": null,
      "outputs": []
    },
    {
      "cell_type": "code",
      "source": [
        "def bot_response(messages, role=\"assistant\", system_message=\"\", functions=None):\n",
        "    # Insert the system message at the beginning of the messages if it's not already there\n",
        "    if not messages or messages[0][\"content\"] != system_message:\n",
        "        messages = [{\"role\": \"system\", \"content\": system_message}] + messages\n",
        "\n",
        "    chat_response = chat_completion_request(\n",
        "        messages,\n",
        "        temperature=0,\n",
        "        functions=functions if role == \"assistant\" else None\n",
        "    )\n",
        "    content = chat_response.json()[\"choices\"][0][\"message\"][\"content\"]\n",
        "    return {\"role\": role, \"content\": content}\n",
        "\n",
        "def financial_advisor_bot_response(messages):\n",
        "    advisor_system_message = \"\"\"\n",
        "    I am MaishaMoney AI, I gather as much information about your financial\n",
        "    health one question at a time: such as\n",
        "    - expenses,\n",
        "    - income,\n",
        "    - spending power,\n",
        "    - lifestyle\n",
        "    - etc.\n",
        "\n",
        "    Then I help you figure out your financial capabilities and provide\n",
        "    advice on what to do to improve financial health.\n",
        "\n",
        "    I will:\n",
        "    1. Understand your financial situation\n",
        "    2. Carry out some data analysis\n",
        "    3. Do financial forecasting\n",
        "    4. Provide personalized financial advice\n",
        "\n",
        "    I will provide you with clear concise advice with particular values on\n",
        "    how to proceed to improve financial health.\n",
        "\n",
        "    I will get straight to the point on what information I need to get started\n",
        "    in helping you\n",
        "\n",
        "    I will gather information one question at a time\n",
        "    as I build a good financial picture of you\n",
        "    before providing my advice.\n",
        "\n",
        "    I am parsimonious and straight to the point\n",
        "    I will be specific on the plan I want you to follow\n",
        "    And the exact steps, shares and amounts to used to carry out the\n",
        "    particular task I recommend be it investing, saving, roth, etc. I'll be\n",
        "    specific on the amounts I want you to take and I will provide you\n",
        "    with the financical steps by steps plan for you to take.\n",
        "\n",
        "    I will confirm which of the options you prefer, then I will be more detailed\n",
        "    with the plan you choose and give you a financial break down on how we can\n",
        "    achieve that goal within a specific timeframe.\n",
        "    I will be detailed in how much I want you to allocate, and how much it\n",
        "    leaves for your other expenses\n",
        "    \"\"\"\n",
        "    return bot_response(messages, role=\"assistant\", system_message=advisor_system_message, functions=functions)\n",
        "\n",
        "def user_bot_response(messages):\n",
        "    return bot_response(messages, role=\"user\", system_message=user_persona_1)\n",
        "\n",
        "def converse_functions(iterations=5):\n",
        "    advisor_messages = []\n",
        "    user_messages = []\n",
        "\n",
        "    for _ in range(iterations):\n",
        "        # Financial Advisor Bot's turn\n",
        "        advisor_response = financial_advisor_bot_response(advisor_messages)\n",
        "\n",
        "        advisor_messages.append(advisor_response)\n",
        "\n",
        "        # Check if the advisor's response contains a function call\n",
        "        if \"function_call\" in advisor_response:\n",
        "            # Execute the function call and obtain the results\n",
        "            results = execute_function_call(advisor_response)\n",
        "\n",
        "            # Append the results to the conversation as a \"function\" role message\n",
        "            function_message = {\n",
        "                \"role\": \"function\",\n",
        "                \"name\": advisor_response[\"function_call\"][\"name\"],\n",
        "                \"content\": results\n",
        "            }\n",
        "            advisor_messages.append(function_message)\n",
        "\n",
        "            # Add the function call to the user_messages as a user message\n",
        "            user_messages.append(function_message)\n",
        "            # Display the function results\n",
        "            pretty_print_message(function_message)\n",
        "        else:\n",
        "            # Regular content message, so append to user_messages for the user bot's context\n",
        "            user_messages.append({\"role\": \"user\", \"content\": advisor_response[\"content\"]})\n",
        "\n",
        "        # Print the advisor's message with role \"assistant\"\n",
        "        pretty_print_message({\"role\": \"assistant\", \"content\": advisor_response.get(\"content\", \"\")})\n",
        "\n",
        "        # User Bot's turn\n",
        "        user_response = user_bot_response(user_messages)\n",
        "\n",
        "        advisor_messages.append({\"role\": \"user\", \"content\": user_response[\"content\"]})\n",
        "        user_messages.append(user_response)\n",
        "\n",
        "        # Print the user's message with role \"user\"\n",
        "        pretty_print_message({\"role\": \"user\", \"content\": user_response[\"content\"]})\n",
        "\n",
        "    return advisor_messages\n"
      ],
      "metadata": {
        "id": "vHnclHSVK9Cm"
      },
      "execution_count": 153,
      "outputs": []
    },
    {
      "cell_type": "code",
      "source": [
        "converse_functions(iterations=10)"
      ],
      "metadata": {
        "colab": {
          "base_uri": "https://localhost:8080/",
          "height": 1000
        },
        "id": "wxL-4pCRSE59",
        "outputId": "91b0a332-4ec2-4e15-c626-c2935c75ff45"
      },
      "execution_count": 154,
      "outputs": [
        {
          "output_type": "display_data",
          "data": {
            "text/plain": [
              "<IPython.core.display.HTML object>"
            ],
            "text/html": [
              "<font color=\"dodgerblue\">assistant: To get started, I need to gather some information about your financial situation. Please answer the following questions:<br><br>1. What is your monthly income after taxes?<br>2. What are your monthly expenses? Please provide a breakdown of your expenses, including categories such as rent/mortgage, utilities, groceries, transportation, entertainment, etc.<br>3. Do you have any outstanding debts? If yes, please provide details such as the type of debt, the outstanding balance, and the interest rate.<br>4. Do you have any savings or investments? If yes, please provide details such as the type of savings/investment account and the current balance.<br>5. What are your financial goals? Do you have any specific goals such as saving for a down payment on a house, paying off debt, or saving for retirement?<br><br>Please provide as much detail as possible so that I can accurately assess your financial situation and provide personalized advice.</font><br>"
            ]
          },
          "metadata": {}
        },
        {
          "output_type": "display_data",
          "data": {
            "text/plain": [
              "<IPython.core.display.HTML object>"
            ],
            "text/html": [
              "<font color=\"green\">user: 1. My monthly income after taxes is $5,000.<br>2. My monthly expenses are as follows:<br>   - Rent: $1,200<br>   - Utilities (electricity, water, internet): $200<br>   - Groceries: $300<br>   - Transportation (car payment, insurance, gas): $500<br>   - Entertainment (dining out, movies, subscriptions): $400<br>   - Student loan payment: $500<br>   - Miscellaneous expenses: $300<br><br>3. I have outstanding student loan debt with a balance of $30,000 and an interest rate of 5%.<br><br>4. I currently have a savings account with a balance of $10,000.<br><br>5. My financial goals are as follows:<br>   - Pay off my student loan debt within the next 5 years.<br>   - Save for a down payment on a house in the next 10 years.<br>   - Start investing for retirement and build a solid financial foundation.<br><br>I would like to gain a better understanding of my current financial situation, create a budget, and receive advice on how to manage my expenses, pay off debt, and start investing for the future. Additionally, I would like to see forecasts and graphs to visualize my progress towards my financial goals.</font><br>"
            ]
          },
          "metadata": {}
        },
        {
          "output_type": "display_data",
          "data": {
            "text/plain": [
              "<IPython.core.display.HTML object>"
            ],
            "text/html": [
              "<font color=\"dodgerblue\">assistant: Thank you for providing the details of your financial situation and goals. Based on the information you provided, here is a breakdown of your current financial situation:<br><br>- Monthly income: $5,000<br>- Monthly expenses:<br>  - Rent: $1,200<br>  - Utilities: $200<br>  - Groceries: $300<br>  - Transportation: $500<br>  - Entertainment: $400<br>  - Student loan payment: $500<br>  - Miscellaneous expenses: $300<br>- Outstanding student loan debt: $30,000 with an interest rate of 5%<br>- Savings account balance: $10,000<br><br>Now, let's create a budget and financial plan to help you manage your expenses, pay off debt, and start investing for the future.<br><br>1. Budgeting:<br>   - Based on your income and expenses, your total monthly expenses amount to $3,500. This leaves you with a surplus of $1,500 each month.<br>   - I recommend allocating this surplus towards your financial goals, such as paying off debt and saving for a down payment on a house.<br><br>2. Paying off student loan debt:<br>   - With a balance of $30,000 and an interest rate of 5%, it's important to prioritize paying off your student loan debt.<br>   - I recommend making consistent monthly payments of $500 towards your student loan.<br>   - This will allow you to pay off your debt within approximately 5 years, assuming the interest rate remains constant.<br><br>3. Saving for a down payment on a house:<br>   - To save for a down payment on a house, it's important to set aside a portion of your monthly surplus.<br>   - I recommend allocating $500 each month towards your house down payment savings.<br>   - This will allow you to save $6,000 per year, and within 10 years, you will have saved $60,000, assuming no additional contributions or interest.<br><br>4. Investing for retirement:<br>   - It's never too early to start investing for retirement and building a solid financial foundation.<br>   - I recommend opening a retirement account, such as a Roth IRA or a 401(k), and contributing a portion of your monthly surplus towards it.<br>   - Depending on your risk tolerance and investment preferences, I recommend allocating $500 each month towards your retirement account.<br>   - This will allow you to build a retirement nest egg over time and take advantage of compounding returns.<br><br>5. Monitoring and tracking progress:<br>   - To visualize your progress towards your financial goals, I recommend using a budgeting and financial tracking tool or app.<br>   - This will help you track your income, expenses, debt payments, savings, and investment growth.<br>   - You can set up alerts and reminders to stay on track with your budget and financial plan.<br><br>Remember, this is a general financial plan based on the information provided. It's important to regularly review and adjust your plan as your financial situation and goals may change over time. Consider consulting with a financial advisor for personalized advice and guidance.<br><br>Let me know if you have any further questions or if there's anything else I can assist you with!</font><br>"
            ]
          },
          "metadata": {}
        },
        {
          "output_type": "display_data",
          "data": {
            "text/plain": [
              "<IPython.core.display.HTML object>"
            ],
            "text/html": [
              "<font color=\"green\">user: To gain a better understanding of your current financial situation and track your progress towards your goals, I can provide you with forecasts and graphs. Here are some options:<br><br>1. Cash Flow Forecast: This forecast will show your projected income, expenses, and savings over a specific period, such as the next 12 months. It will help you visualize how your surplus will accumulate over time and how it can be allocated towards debt repayment, savings, and investments.<br><br>2. Debt Payoff Projection: This projection will show you how long it will take to pay off your student loan debt based on your current monthly payment and interest rate. It will also show the total interest paid over the repayment period. This will help you track your progress and motivate you to pay off your debt faster.<br><br>3. Savings and Investment Growth Projection: This projection will show you how your savings and investments can grow over time based on your monthly contributions and assumed rate of return. It will help you see the potential growth of your down payment savings and retirement investments.<br><br>4. Net Worth Graph: This graph will show the trend of your net worth over time. It will include your savings, investments, and any other assets minus your debts. This will help you track your overall financial progress and see how your net worth increases as you pay off debt and accumulate savings.<br><br>Please let me know which specific forecasts and graphs you would like to see, and I will provide them to you.</font><br>"
            ]
          },
          "metadata": {}
        },
        {
          "output_type": "display_data",
          "data": {
            "text/plain": [
              "<IPython.core.display.HTML object>"
            ],
            "text/html": [
              "<font color=\"dodgerblue\">assistant: Thank you for your request. To gain a better understanding of your current financial situation and track your progress towards your goals, I will provide you with the following forecasts and graphs:<br><br>1. Cash Flow Forecast: I will create a cash flow forecast for the next 12 months, showing your projected income, expenses, and savings. This will help you visualize how your surplus will accumulate over time and how it can be allocated towards debt repayment, savings, and investments.<br><br>2. Debt Payoff Projection: I will create a debt payoff projection based on your current monthly payment and interest rate. This projection will show you how long it will take to pay off your student loan debt and the total interest paid over the repayment period. It will help you track your progress and motivate you to pay off your debt faster.<br><br>3. Savings and Investment Growth Projection: I will create a savings and investment growth projection based on your monthly contributions and assumed rate of return. This projection will show you how your savings and investments can grow over time. It will help you see the potential growth of your down payment savings and retirement investments.<br><br>4. Net Worth Graph: I will create a net worth graph that shows the trend of your net worth over time. This graph will include your savings, investments, and any other assets minus your debts. It will help you track your overall financial progress and see how your net worth increases as you pay off debt and accumulate savings.<br><br>Please allow me some time to generate these forecasts and graphs based on your financial information. Once they are ready, I will provide them to you.</font><br>"
            ]
          },
          "metadata": {}
        },
        {
          "output_type": "display_data",
          "data": {
            "text/plain": [
              "<IPython.core.display.HTML object>"
            ],
            "text/html": [
              "<font color=\"green\">user: Thank you for your patience. Here are the forecasts and graphs based on your financial information:<br><br>1. Cash Flow Forecast for the next 12 months:<br>   - This forecast shows your projected income, expenses, and savings over the next 12 months. It helps you visualize how your surplus will accumulate over time and how it can be allocated towards debt repayment, savings, and investments.<br><br>2. Debt Payoff Projection:<br>   - This projection shows how long it will take to pay off your student loan debt based on your current monthly payment and interest rate. It also shows the total interest paid over the repayment period. This will help you track your progress and motivate you to pay off your debt faster.<br><br>3. Savings and Investment Growth Projection:<br>   - This projection shows how your savings and investments can grow over time based on your monthly contributions and assumed rate of return. It helps you see the potential growth of your down payment savings and retirement investments.<br><br>4. Net Worth Graph:<br>   - This graph shows the trend of your net worth over time. It includes your savings, investments, and any other assets minus your debts. It helps you track your overall financial progress and see how your net worth increases as you pay off debt and accumulate savings.<br><br>I will now generate these forecasts and graphs based on your financial information. Once they are ready, I will provide them to you.</font><br>"
            ]
          },
          "metadata": {}
        },
        {
          "output_type": "display_data",
          "data": {
            "text/plain": [
              "<IPython.core.display.HTML object>"
            ],
            "text/html": [
              "<font color=\"dodgerblue\">assistant: None</font><br>"
            ]
          },
          "metadata": {}
        },
        {
          "output_type": "error",
          "ename": "KeyError",
          "evalue": "ignored",
          "traceback": [
            "\u001b[0;31m---------------------------------------------------------------------------\u001b[0m",
            "\u001b[0;31mKeyError\u001b[0m                                  Traceback (most recent call last)",
            "\u001b[0;32m<ipython-input-154-df0937a0cb8c>\u001b[0m in \u001b[0;36m<cell line: 1>\u001b[0;34m()\u001b[0m\n\u001b[0;32m----> 1\u001b[0;31m \u001b[0mconverse_functions\u001b[0m\u001b[0;34m(\u001b[0m\u001b[0miterations\u001b[0m\u001b[0;34m=\u001b[0m\u001b[0;36m10\u001b[0m\u001b[0;34m)\u001b[0m\u001b[0;34m\u001b[0m\u001b[0;34m\u001b[0m\u001b[0m\n\u001b[0m",
            "\u001b[0;32m<ipython-input-153-500ff5de6a0e>\u001b[0m in \u001b[0;36mconverse_functions\u001b[0;34m(iterations)\u001b[0m\n\u001b[1;32m     94\u001b[0m \u001b[0;34m\u001b[0m\u001b[0m\n\u001b[1;32m     95\u001b[0m         \u001b[0;31m# User Bot's turn\u001b[0m\u001b[0;34m\u001b[0m\u001b[0;34m\u001b[0m\u001b[0m\n\u001b[0;32m---> 96\u001b[0;31m         \u001b[0muser_response\u001b[0m \u001b[0;34m=\u001b[0m \u001b[0muser_bot_response\u001b[0m\u001b[0;34m(\u001b[0m\u001b[0muser_messages\u001b[0m\u001b[0;34m)\u001b[0m\u001b[0;34m\u001b[0m\u001b[0;34m\u001b[0m\u001b[0m\n\u001b[0m\u001b[1;32m     97\u001b[0m \u001b[0;34m\u001b[0m\u001b[0m\n\u001b[1;32m     98\u001b[0m         \u001b[0madvisor_messages\u001b[0m\u001b[0;34m.\u001b[0m\u001b[0mappend\u001b[0m\u001b[0;34m(\u001b[0m\u001b[0;34m{\u001b[0m\u001b[0;34m\"role\"\u001b[0m\u001b[0;34m:\u001b[0m \u001b[0;34m\"user\"\u001b[0m\u001b[0;34m,\u001b[0m \u001b[0;34m\"content\"\u001b[0m\u001b[0;34m:\u001b[0m \u001b[0muser_response\u001b[0m\u001b[0;34m[\u001b[0m\u001b[0;34m\"content\"\u001b[0m\u001b[0;34m]\u001b[0m\u001b[0;34m}\u001b[0m\u001b[0;34m)\u001b[0m\u001b[0;34m\u001b[0m\u001b[0;34m\u001b[0m\u001b[0m\n",
            "\u001b[0;32m<ipython-input-153-500ff5de6a0e>\u001b[0m in \u001b[0;36muser_bot_response\u001b[0;34m(messages)\u001b[0m\n\u001b[1;32m     57\u001b[0m \u001b[0;34m\u001b[0m\u001b[0m\n\u001b[1;32m     58\u001b[0m \u001b[0;32mdef\u001b[0m \u001b[0muser_bot_response\u001b[0m\u001b[0;34m(\u001b[0m\u001b[0mmessages\u001b[0m\u001b[0;34m)\u001b[0m\u001b[0;34m:\u001b[0m\u001b[0;34m\u001b[0m\u001b[0;34m\u001b[0m\u001b[0m\n\u001b[0;32m---> 59\u001b[0;31m     \u001b[0;32mreturn\u001b[0m \u001b[0mbot_response\u001b[0m\u001b[0;34m(\u001b[0m\u001b[0mmessages\u001b[0m\u001b[0;34m,\u001b[0m \u001b[0mrole\u001b[0m\u001b[0;34m=\u001b[0m\u001b[0;34m\"user\"\u001b[0m\u001b[0;34m,\u001b[0m \u001b[0msystem_message\u001b[0m\u001b[0;34m=\u001b[0m\u001b[0muser_persona_1\u001b[0m\u001b[0;34m)\u001b[0m\u001b[0;34m\u001b[0m\u001b[0;34m\u001b[0m\u001b[0m\n\u001b[0m\u001b[1;32m     60\u001b[0m \u001b[0;34m\u001b[0m\u001b[0m\n\u001b[1;32m     61\u001b[0m \u001b[0;32mdef\u001b[0m \u001b[0mconverse_functions\u001b[0m\u001b[0;34m(\u001b[0m\u001b[0miterations\u001b[0m\u001b[0;34m=\u001b[0m\u001b[0;36m5\u001b[0m\u001b[0;34m)\u001b[0m\u001b[0;34m:\u001b[0m\u001b[0;34m\u001b[0m\u001b[0;34m\u001b[0m\u001b[0m\n",
            "\u001b[0;32m<ipython-input-153-500ff5de6a0e>\u001b[0m in \u001b[0;36mbot_response\u001b[0;34m(messages, role, system_message, functions)\u001b[0m\n\u001b[1;32m      9\u001b[0m         \u001b[0mfunctions\u001b[0m\u001b[0;34m=\u001b[0m\u001b[0mfunctions\u001b[0m \u001b[0;32mif\u001b[0m \u001b[0mrole\u001b[0m \u001b[0;34m==\u001b[0m \u001b[0;34m\"assistant\"\u001b[0m \u001b[0;32melse\u001b[0m \u001b[0;32mNone\u001b[0m\u001b[0;34m\u001b[0m\u001b[0;34m\u001b[0m\u001b[0m\n\u001b[1;32m     10\u001b[0m     )\n\u001b[0;32m---> 11\u001b[0;31m     \u001b[0mcontent\u001b[0m \u001b[0;34m=\u001b[0m \u001b[0mchat_response\u001b[0m\u001b[0;34m.\u001b[0m\u001b[0mjson\u001b[0m\u001b[0;34m(\u001b[0m\u001b[0;34m)\u001b[0m\u001b[0;34m[\u001b[0m\u001b[0;34m\"choices\"\u001b[0m\u001b[0;34m]\u001b[0m\u001b[0;34m[\u001b[0m\u001b[0;36m0\u001b[0m\u001b[0;34m]\u001b[0m\u001b[0;34m[\u001b[0m\u001b[0;34m\"message\"\u001b[0m\u001b[0;34m]\u001b[0m\u001b[0;34m[\u001b[0m\u001b[0;34m\"content\"\u001b[0m\u001b[0;34m]\u001b[0m\u001b[0;34m\u001b[0m\u001b[0;34m\u001b[0m\u001b[0m\n\u001b[0m\u001b[1;32m     12\u001b[0m     \u001b[0;32mreturn\u001b[0m \u001b[0;34m{\u001b[0m\u001b[0;34m\"role\"\u001b[0m\u001b[0;34m:\u001b[0m \u001b[0mrole\u001b[0m\u001b[0;34m,\u001b[0m \u001b[0;34m\"content\"\u001b[0m\u001b[0;34m:\u001b[0m \u001b[0mcontent\u001b[0m\u001b[0;34m}\u001b[0m\u001b[0;34m\u001b[0m\u001b[0;34m\u001b[0m\u001b[0m\n\u001b[1;32m     13\u001b[0m \u001b[0;34m\u001b[0m\u001b[0m\n",
            "\u001b[0;31mKeyError\u001b[0m: 'choices'"
          ]
        }
      ]
    },
    {
      "cell_type": "code",
      "source": [],
      "metadata": {
        "id": "kSlNbA3XSG_w"
      },
      "execution_count": null,
      "outputs": []
    }
  ]
}